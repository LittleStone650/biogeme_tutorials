{
 "cells": [
  {
   "cell_type": "code",
   "execution_count": 1,
   "id": "initial_id",
   "metadata": {
    "collapsed": true,
    "ExecuteTime": {
     "end_time": "2023-11-01T07:41:32.842465Z",
     "start_time": "2023-11-01T07:41:31.865823Z"
    }
   },
   "outputs": [],
   "source": [
    "import pandas as pd\n",
    "import biogeme.logging as blog\n",
    "import biogeme.biogeme as bio\n",
    "from biogeme import models\n",
    "from biogeme.results import calculate_correlation\n",
    "from biogeme.expressions import Beta\n",
    "\n",
    "import numpy as np\n",
    "import biogeme.database as db\n",
    "import biogeme.optimization as opt\n",
    "from biogeme.expressions import Beta, DefineVariable\n",
    "import biogeme.expressions as exp\n",
    "\n",
    "\n",
    "intermodal_data = pd.read_csv('/Users/lei/Documents/毕业论文/jiadingsurvey/intermodalAnalysis/2.fromRPtoSP/fitmodal_data/allmodal_data_travelinfo_social_wide.csv')\n",
    "\n",
    "intermodal_data = intermodal_data[intermodal_data['totaldistance_car'] < 50000]\n",
    "intermodal_data['totalcost_car_new'] = (intermodal_data['totaldistance_car']/1000) * 1.09\n",
    "database = db.Database(\"intermodal_data\", intermodal_data)\n",
    "globals().update(database.variables)\n",
    "\n",
    "\n"
   ]
  },
  {
   "cell_type": "code",
   "execution_count": 3,
   "outputs": [],
   "source": [
    "totalcost_metro_car_new = database.DefineVariable('totalcost_metro_car_new',totalcost_metro_car-12)\n"
   ],
   "metadata": {
    "collapsed": false,
    "ExecuteTime": {
     "end_time": "2023-11-01T08:28:05.979166Z",
     "start_time": "2023-11-01T08:28:05.956111Z"
    }
   },
   "id": "ae020d17802342c8"
  },
  {
   "cell_type": "code",
   "execution_count": 2,
   "outputs": [],
   "source": [
    "ASC_bus_metro   = exp.Beta('ASC_bus_metro',0,None ,None ,0)  # 常数，相当于`$\\beta{car}$`\n",
    "ASC_metro_car = exp.Beta('ASC_metro_car',0,None ,None ,0)\n",
    "ASC_bike_metro = exp.Beta('ASC_bike_metro',0,None ,None ,0)\n",
    "ASC_ebike_metro = exp.Beta('ASC_ebike_metro',0,None ,None ,0)\n",
    "ASC_metro = exp.Beta('ASC_metro',0,None ,None ,0)\n",
    "ASC_bus = exp.Beta('ASC_bus',0,None ,None ,0)\n",
    "ASC_car = exp.Beta('ASC_car',0,None ,None ,1)\n",
    "\n",
    "B_TIME_bus_metro    = exp.Beta('B_TIME_bus_metro',0,None ,None ,0)  # bus_metro 出行时长前面的系数\n",
    "B_TIME_metro_car = exp.Beta('B_TIME_metro_car',0,None ,None ,0)  # metro_car 出行时长前面的系数\n",
    "B_TIME_bike_metro = exp.Beta('B_TIME_bike_metro',0,None ,None ,0)  # metro 出行时长前面的系数\n",
    "B_TIME_ebike_metro = exp.Beta('B_TIME_ebike_metro',0,None ,None ,0)  # metro 出行时长前面的系数\n",
    "B_TIME_metro = exp.Beta('B_TIME_metro',0,None ,None ,0)  # metro 出行时长前面的系数\n",
    "B_TIME_bus = exp.Beta('B_TIME_bus',0,None ,None ,0)  # bus 出行时长前面的系数\n",
    "B_TIME_car = exp.Beta('B_TIME_car',0,None ,None ,0)  # car 出行时长前面的系数\n",
    "\n",
    "B_COST_Transit = exp.Beta('B_COST_Transit',0,None ,None ,0)  # 出行费用前面的系数\n",
    "B_COST_car = exp.Beta('B_COST_car',0,None ,None ,0)  # 出行费用前面的系数\n",
    "# B_COST_metro_car = exp.Beta('B_COST_metro_car',0,None ,None ,0)  # 出行费用前面的系数\n",
    "\n",
    "\n",
    "B_ACTIME_walk = exp.Beta('B_ACTIME_walk',0,None ,None ,0)  # 换乘时间前面的系数\n",
    "B_ACTIME_bike_ebike = exp.Beta('B_ACTIME_bike_ebike',0,None ,None ,0)\n",
    "B_ACTIME_car = exp.Beta('B_ACTIME_car',0,None ,None ,0)\n",
    "\n",
    "\n",
    "B_TRNUMS= exp.Beta('B_TRNUMS',0,None ,None ,0)  # 换乘次数前面的系数\n",
    "# B_TRNUMS_bus = exp.Beta('B_TRNUMS_bus',0,None ,None ,0)  # 换乘次数前面的系数\n",
    "# B_TRNUMS_bus_metro = exp.Beta('B_TRNUMS_bus_metro',0,None ,None ,0)  # 换乘次数前面的系数\n",
    "B_TRNUMS_car = exp.Beta('B_TRNUMS_car',0,None ,None ,1)  # 换乘次数前面的系数\n",
    "\n",
    "# MU = Beta('MU_metro', 1, 1, 10, 0)\n",
    "# MU = Beta('MU_metro', 1, 1, 10, 0)\n",
    "\n",
    "# Definition of the utility functions\n",
    "\n",
    "\n",
    "\n",
    "\n",
    "V1 = ASC_bus_metro + \\\n",
    "     B_TIME_bus_metro * totalduration_bus_metro + \\\n",
    "     B_COST_Transit * totalcost_bus_metro + \\\n",
    "     B_ACTIME_walk * ac_eg_transfer_duration_bus_metro + \\\n",
    "     B_TRNUMS * transfernum_bus_metro\n",
    "\n",
    "V2 = ASC_metro_car + \\\n",
    "     B_TIME_metro_car * totalduration_metro_car + \\\n",
    "     B_COST_Transit * totalcost_metro_car + \\\n",
    "     B_ACTIME_car * ac_eg_transfer_duration_metro_car + \\\n",
    "     B_TRNUMS * transfernum_metro_car\n",
    "V3 = ASC_bike_metro + \\\n",
    "     B_TIME_bike_metro * totalduration_bike_metro + \\\n",
    "     B_COST_Transit * totalcost_bike_metro + \\\n",
    "     B_ACTIME_bike_ebike * ac_eg_transfer_duration_bike_metro + \\\n",
    "     B_TRNUMS * transfernum_bike_metro\n",
    "V4 = ASC_ebike_metro + \\\n",
    "     B_TIME_ebike_metro * totalduration_ebike_metro + \\\n",
    "     B_COST_Transit * totalcost_ebike_metro + \\\n",
    "     B_ACTIME_bike_ebike * ac_eg_transfer_duration_ebike_metro + \\\n",
    "     B_TRNUMS * transfernum_ebike_metro\n",
    "V5 = ASC_metro + \\\n",
    "     B_TIME_metro * totalduration_metro + \\\n",
    "     B_COST_Transit * totalcost_metro + \\\n",
    "     B_ACTIME_walk * ac_eg_transfer_duration_metro + \\\n",
    "     B_TRNUMS * transfernum_metro\n",
    "V6 = ASC_bus + \\\n",
    "     B_TIME_bus * totalduration_bus + \\\n",
    "     B_COST_Transit * totalcost_bus + \\\n",
    "     B_ACTIME_walk * ac_eg_transfer_duration_bus + \\\n",
    "     B_TRNUMS * transfernum_bus\n",
    "V7 = ASC_car + \\\n",
    "     B_TIME_car * totalduration_car + \\\n",
    "     B_COST_car * totalcost_car_new+ \\\n",
    "     B_TRNUMS_car * transfernum_car\n",
    "\n",
    "\n",
    "V = {1: V1,\n",
    "     2: V2,\n",
    "     3: V3,\n",
    "     4: V4,\n",
    "     5: V5,\n",
    "     6: V6,\n",
    "     7: V7}\n",
    "\n",
    "av = {1: bus_metro_av,\n",
    "      2: metro_car_av,\n",
    "      3: bike_metro_av,\n",
    "      4: ebike_metro_av,\n",
    "      5: metro_av,\n",
    "      6: bus_av,\n",
    "      7: car_av}\n",
    "\n",
    "\n",
    "\n"
   ],
   "metadata": {
    "collapsed": false,
    "ExecuteTime": {
     "end_time": "2023-11-01T08:27:45.130110Z",
     "start_time": "2023-11-01T08:27:45.126991Z"
    }
   },
   "id": "93dc83a6312f130b"
  },
  {
   "cell_type": "code",
   "execution_count": 5,
   "outputs": [
    {
     "name": "stderr",
     "output_type": "stream",
     "text": [
      "Obsolete syntax. Use generate_html instead of generateHtml\n",
      "Obsolete syntax. Use generate_pickle instead of generatePickle\n"
     ]
    },
    {
     "name": "stdout",
     "output_type": "stream",
     "text": [
      "HTML file:    nested_logit_inter_single~03.html\n",
      "Pickle file:  None\n"
     ]
    }
   ],
   "source": [
    "MU_inter = Beta('MU_inter', 1, 1, None, 0)\n",
    "MU_single = Beta('MU_single', 1, 1, None, 1)\n",
    "\n",
    "metro_nest = MU_inter, [1, 2, 3, 4]\n",
    "bus_nest = MU_single, [5,6,7]\n",
    "\n",
    "\n",
    "nests = bus_nest,metro_nest\n",
    "\n",
    "\n",
    "nestedlogprob = models.lognested (V, None , nests , choice )# 用log likelihood 来标定模型\n",
    "\n",
    "nested_biogeme  = bio.BIOGEME(database, nestedlogprob)\n",
    "nested_biogeme.modelName = \"nested_logit_inter_single\"\n",
    "\n",
    "nested_biogeme.generateHtml = True\n",
    "nested_biogeme.generatePickle = False\n",
    "\n",
    "nested_results = nested_biogeme.estimate()\n",
    "\n",
    "print(f\"HTML file:    {nested_results.data.htmlFileName}\")\n",
    "print(f\"Pickle file:  {nested_results.data.pickleFileName }\")"
   ],
   "metadata": {
    "collapsed": false,
    "ExecuteTime": {
     "end_time": "2023-11-01T08:28:21.725608Z",
     "start_time": "2023-11-01T08:28:21.297778Z"
    }
   },
   "id": "3ed7aeb2de084664"
  },
  {
   "cell_type": "code",
   "execution_count": 6,
   "outputs": [
    {
     "name": "stderr",
     "output_type": "stream",
     "text": [
      "Obsolete syntax. Use generate_html instead of generateHtml\n",
      "Obsolete syntax. Use generate_pickle instead of generatePickle\n"
     ]
    },
    {
     "name": "stdout",
     "output_type": "stream",
     "text": [
      "HTML file:    intermoal_only_travelinfo_advance_model3.html\n",
      "Pickle file:  None\n"
     ]
    }
   ],
   "source": [
    "\n",
    "ml_logprob = models.loglogit(V, None, choice) # 用log likelihood 来标定模型\n",
    "\n",
    "ml_biogeme  = bio.BIOGEME(database, ml_logprob)\n",
    "ml_biogeme.modelName = \"intermoal_only_travelinfo_advance_model3\"\n",
    "\n",
    "ml_biogeme.generateHtml = True\n",
    "ml_biogeme.generatePickle = False\n",
    "\n",
    "ml_results = ml_biogeme.estimate()\n",
    "\n",
    "print(f\"HTML file:    {ml_results.data.htmlFileName}\")\n",
    "print(f\"Pickle file:  {ml_results.data.pickleFileName }\")\n"
   ],
   "metadata": {
    "collapsed": false,
    "ExecuteTime": {
     "end_time": "2023-11-01T08:28:32.286259Z",
     "start_time": "2023-11-01T08:28:30.834079Z"
    }
   },
   "id": "cdc8e50504e695cb"
  },
  {
   "cell_type": "code",
   "execution_count": 36,
   "outputs": [
    {
     "data": {
      "text/plain": "dict_keys(['ASC_bike_metro', 'ASC_bus', 'ASC_bus_metro', 'ASC_ebike_metro', 'ASC_metro', 'ASC_metro_car', 'B_ACTIME_bike_ebike', 'B_ACTIME_car', 'B_ACTIME_walk', 'B_COST_Transit', 'B_COST_car', 'B_TIME_bike_metro', 'B_TIME_bus', 'B_TIME_bus_metro', 'B_TIME_car', 'B_TIME_ebike_metro', 'B_TIME_metro', 'B_TIME_metro_car', 'B_TRNUMS', 'MU_inter'])"
     },
     "execution_count": 36,
     "metadata": {},
     "output_type": "execute_result"
    }
   ],
   "source": [
    "nested_results.getBetaValues().keys()"
   ],
   "metadata": {
    "collapsed": false,
    "ExecuteTime": {
     "end_time": "2023-11-01T09:04:14.086124Z",
     "start_time": "2023-11-01T09:04:14.070562Z"
    }
   },
   "id": "1d7d75a74312716b"
  },
  {
   "cell_type": "code",
   "execution_count": 21,
   "outputs": [
    {
     "ename": "LinAlgError",
     "evalue": "1-dimensional array given. Array must be at least two-dimensional",
     "output_type": "error",
     "traceback": [
      "\u001B[0;31m---------------------------------------------------------------------------\u001B[0m",
      "\u001B[0;31mLinAlgError\u001B[0m                               Traceback (most recent call last)",
      "Cell \u001B[0;32mIn[21], line 6\u001B[0m\n\u001B[1;32m      3\u001B[0m variance_diff \u001B[38;5;241m=\u001B[39m nested_results\u001B[38;5;241m.\u001B[39mgetCorrelationResults()[\u001B[38;5;124m'\u001B[39m\u001B[38;5;124mCovariance\u001B[39m\u001B[38;5;124m'\u001B[39m] \u001B[38;5;241m+\u001B[39m ml_results\u001B[38;5;241m.\u001B[39mgetCorrelationResults()[\u001B[38;5;124m'\u001B[39m\u001B[38;5;124mCovariance\u001B[39m\u001B[38;5;124m'\u001B[39m]\n\u001B[1;32m      5\u001B[0m \u001B[38;5;66;03m# Compute the Hausman test statistic\u001B[39;00m\n\u001B[0;32m----> 6\u001B[0m hausman_test_statistic \u001B[38;5;241m=\u001B[39m diff \u001B[38;5;241m@\u001B[39m np\u001B[38;5;241m.\u001B[39mlinalg\u001B[38;5;241m.\u001B[39minv(variance_diff) \u001B[38;5;241m@\u001B[39m diff\u001B[38;5;241m.\u001B[39mT\n\u001B[1;32m      8\u001B[0m \u001B[38;5;66;03m# Compare the test statistic to a chi-squared distribution\u001B[39;00m\n\u001B[1;32m      9\u001B[0m degrees_of_freedom \u001B[38;5;241m=\u001B[39m \u001B[38;5;28mlen\u001B[39m(diff)\n",
      "File \u001B[0;32m/opt/anaconda3/envs/biogeme/lib/python3.11/site-packages/numpy/linalg/linalg.py:555\u001B[0m, in \u001B[0;36minv\u001B[0;34m(a)\u001B[0m\n\u001B[1;32m    494\u001B[0m \u001B[38;5;250m\u001B[39m\u001B[38;5;124;03m\"\"\"\u001B[39;00m\n\u001B[1;32m    495\u001B[0m \u001B[38;5;124;03mCompute the (multiplicative) inverse of a matrix.\u001B[39;00m\n\u001B[1;32m    496\u001B[0m \n\u001B[0;32m   (...)\u001B[0m\n\u001B[1;32m    552\u001B[0m \n\u001B[1;32m    553\u001B[0m \u001B[38;5;124;03m\"\"\"\u001B[39;00m\n\u001B[1;32m    554\u001B[0m a, wrap \u001B[38;5;241m=\u001B[39m _makearray(a)\n\u001B[0;32m--> 555\u001B[0m _assert_stacked_2d(a)\n\u001B[1;32m    556\u001B[0m _assert_stacked_square(a)\n\u001B[1;32m    557\u001B[0m t, result_t \u001B[38;5;241m=\u001B[39m _commonType(a)\n",
      "File \u001B[0;32m/opt/anaconda3/envs/biogeme/lib/python3.11/site-packages/numpy/linalg/linalg.py:206\u001B[0m, in \u001B[0;36m_assert_stacked_2d\u001B[0;34m(*arrays)\u001B[0m\n\u001B[1;32m    204\u001B[0m \u001B[38;5;28;01mfor\u001B[39;00m a \u001B[38;5;129;01min\u001B[39;00m arrays:\n\u001B[1;32m    205\u001B[0m     \u001B[38;5;28;01mif\u001B[39;00m a\u001B[38;5;241m.\u001B[39mndim \u001B[38;5;241m<\u001B[39m \u001B[38;5;241m2\u001B[39m:\n\u001B[0;32m--> 206\u001B[0m         \u001B[38;5;28;01mraise\u001B[39;00m LinAlgError(\u001B[38;5;124m'\u001B[39m\u001B[38;5;132;01m%d\u001B[39;00m\u001B[38;5;124m-dimensional array given. Array must be \u001B[39m\u001B[38;5;124m'\u001B[39m\n\u001B[1;32m    207\u001B[0m                 \u001B[38;5;124m'\u001B[39m\u001B[38;5;124mat least two-dimensional\u001B[39m\u001B[38;5;124m'\u001B[39m \u001B[38;5;241m%\u001B[39m a\u001B[38;5;241m.\u001B[39mndim)\n",
      "\u001B[0;31mLinAlgError\u001B[0m: 1-dimensional array given. Array must be at least two-dimensional"
     ]
    }
   ],
   "source": [
    "from scipy.stats import chi2\n",
    "diff = nested_results.getEstimatedParameters()['Value'] - ml_results.getEstimatedParameters()['Value']\n",
    "variance_diff = nested_results.getCorrelationResults()['Covariance'] + ml_results.getCorrelationResults()['Covariance']\n",
    "\n",
    "# Compute the Hausman test statistic\n",
    "hausman_test_statistic = diff @ np.linalg.inv(variance_diff) @ diff.T\n",
    "\n",
    "# Compare the test statistic to a chi-squared distribution\n",
    "degrees_of_freedom = len(diff)\n",
    "p_value = 1.0 - chi2.cdf(hausman_test_statistic, degrees_of_freedom)\n",
    "\n",
    "print(f'Hausman Test Statistic: {hausman_test_statistic}')\n",
    "print(f'Degrees of Freedom: {degrees_of_freedom}')\n",
    "print(f'P-value: {p_value}')"
   ],
   "metadata": {
    "collapsed": false,
    "ExecuteTime": {
     "end_time": "2023-11-01T08:39:48.023455Z",
     "start_time": "2023-11-01T08:39:47.646566Z"
    }
   },
   "id": "2fbc44b12bc4308d"
  },
  {
   "cell_type": "code",
   "execution_count": 19,
   "outputs": [
    {
     "data": {
      "text/plain": "ASC_bus-ASC_bike_metro            0.052638\nASC_bus_metro-ASC_bike_metro      0.136837\nASC_bus_metro-ASC_bus             0.053680\nASC_ebike_metro-ASC_bike_metro    0.127017\nASC_ebike_metro-ASC_bus           0.046233\n                                    ...   \nMU_inter-B_TIME_car                    NaN\nMU_inter-B_TIME_ebike_metro            NaN\nMU_inter-B_TIME_metro                  NaN\nMU_inter-B_TIME_metro_car              NaN\nMU_inter-B_TRNUMS                      NaN\nName: Covariance, Length: 190, dtype: float64"
     },
     "execution_count": 19,
     "metadata": {},
     "output_type": "execute_result"
    }
   ],
   "source": [
    "variance_diff"
   ],
   "metadata": {
    "collapsed": false,
    "ExecuteTime": {
     "end_time": "2023-11-01T08:37:11.956337Z",
     "start_time": "2023-11-01T08:37:11.945282Z"
    }
   },
   "id": "ab958cb89c70f4d0"
  },
  {
   "cell_type": "code",
   "execution_count": 24,
   "outputs": [
    {
     "name": "stdout",
     "output_type": "stream",
     "text": [
      "Variance-Covariance Matrix for Fixed Effects:\n",
      "[[ 0.02966342 -0.04518255]\n",
      " [-0.04518255  0.09609612]]\n"
     ]
    }
   ],
   "source": [
    "import numpy as np\n",
    "\n",
    "# Generated data\n",
    "np.random.seed(42)\n",
    "n_obs = 100\n",
    "\n",
    "# Independent variable X with a constant term\n",
    "X = np.column_stack((np.ones(n_obs), np.random.rand(n_obs, 1)))\n",
    "\n",
    "# True coefficients for the linear regression\n",
    "true_beta0 = 2.0\n",
    "true_beta1 = 3.0\n",
    "\n",
    "# Dependent variable Y with random noise\n",
    "Y = true_beta0 + true_beta1 * X[:, 1] + np.random.normal(0, 1, size=n_obs)\n",
    "\n",
    "# Assume you have the fixed effects estimate beta_FE\n",
    "beta_FE = np.array([true_beta0, true_beta1])\n",
    "\n",
    "# 1. Calculate residuals\n",
    "residuals_FE = Y - np.dot(X, beta_FE)\n",
    "\n",
    "# 2. Compute error variance\n",
    "sigma_squared_FE = np.sum(residuals_FE ** 2) / (n_obs - len(beta_FE))\n",
    "\n",
    "# 3. Compute variance-covariance matrix\n",
    "var_FE = sigma_squared_FE * np.linalg.inv(np.dot(X.T, X))\n",
    "\n",
    "print(\"Variance-Covariance Matrix for Fixed Effects:\")\n",
    "print(var_FE)\n"
   ],
   "metadata": {
    "collapsed": false,
    "ExecuteTime": {
     "end_time": "2023-11-01T08:47:26.639923Z",
     "start_time": "2023-11-01T08:47:26.632965Z"
    }
   },
   "id": "68417f2074b9d977"
  },
  {
   "cell_type": "code",
   "execution_count": null,
   "outputs": [],
   "source": [
    "def perform_mlogit():\n",
    "    pass\n",
    "def perform_nl():\n",
    "    pass\n",
    "def compare_mlogit_vs_nl():\n",
    "    pass\n"
   ],
   "metadata": {
    "collapsed": false
   },
   "id": "6fa761f6dce2f93a"
  }
 ],
 "metadata": {
  "kernelspec": {
   "display_name": "Python 3",
   "language": "python",
   "name": "python3"
  },
  "language_info": {
   "codemirror_mode": {
    "name": "ipython",
    "version": 2
   },
   "file_extension": ".py",
   "mimetype": "text/x-python",
   "name": "python",
   "nbconvert_exporter": "python",
   "pygments_lexer": "ipython2",
   "version": "2.7.6"
  }
 },
 "nbformat": 4,
 "nbformat_minor": 5
}
