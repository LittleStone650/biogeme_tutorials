{
 "cells": [
  {
   "cell_type": "code",
   "execution_count": 1,
   "outputs": [],
   "source": [
    "import pandas as pd\n",
    "import biogeme.logging as blog\n",
    "import biogeme.biogeme as bio\n",
    "from biogeme import models\n",
    "from biogeme.results import calculate_correlation\n",
    "from biogeme.expressions import Beta\n",
    "\n",
    "import numpy as np\n",
    "import biogeme.database as db\n",
    "import biogeme.optimization as opt\n",
    "from biogeme.expressions import Beta, DefineVariable\n",
    "import biogeme.expressions as exp\n",
    "\n",
    "\n",
    "intermodal_data = pd.read_csv('/Users/lei/Documents/毕业论文/jiadingsurvey/intermodalAnalysis/2.fromRPtoSP/fitmodal_data/allmodal_data_travelinfo_social_wide.csv')\n",
    "\n",
    "intermodal_data = intermodal_data[intermodal_data['totaldistance_car'] < 50000]\n",
    "intermodal_data['totalcost_car_new'] = (intermodal_data['totaldistance_car']/1000) * 1.09\n",
    "database = db.Database(\"intermodal_data\", intermodal_data)\n",
    "globals().update(database.variables)\n",
    "\n",
    "\n"
   ],
   "metadata": {
    "collapsed": false,
    "ExecuteTime": {
     "end_time": "2023-11-01T03:44:18.764133Z",
     "start_time": "2023-11-01T03:44:12.646960Z"
    }
   },
   "id": "bd41d54aac1e6288"
  },
  {
   "cell_type": "code",
   "execution_count": 65,
   "outputs": [],
   "source": [
    "# # totalcost_car_new =database.DefineVariable('totalcost_car_new', totaldistance_car/1.09)\n",
    "# totalcost_metro_car_new=database.DefineVariable('totalcost_metro_car_new_5', totalcost_metro_car-totalcost_metro_car+5)"
   ],
   "metadata": {
    "collapsed": false,
    "ExecuteTime": {
     "end_time": "2023-10-25T13:47:22.402909Z",
     "start_time": "2023-10-25T13:47:22.380135Z"
    }
   },
   "id": "ae476ec756cfb277"
  },
  {
   "cell_type": "code",
   "execution_count": 2,
   "outputs": [
    {
     "data": {
      "text/plain": "      index  totalduration_bus_metro  totalduration_metro  \\\n0        22                      111                  121   \n1        47                      110                  131   \n2        63                      109                  102   \n3        67                      104                  124   \n4        81                       94                   93   \n...     ...                      ...                  ...   \n1820  43138                       56                   57   \n1821  43139                       61                   51   \n1822  43141                      101                   91   \n1823  43143                       52                   68   \n1824  43163                      100                  117   \n\n      totalduration_bike_metro  totalduration_car  totalduration_ebike_metro  \\\n0                           98                 40                         94   \n1                           93                 35                         76   \n2                           85                 34                         85   \n3                          108                 30                        108   \n4                           82                 34                         82   \n...                        ...                ...                        ...   \n1820                        36                 24                         36   \n1821                        36                 21                         36   \n1822                        74                 36                         74   \n1823                        53                 13                         53   \n1824                        90                 24                         67   \n\n      totalduration_metro_car  totalduration_bus  totaldistance_bus_metro  \\\n0                          81                167                    47696   \n1                          76                130                    34362   \n2                          67                129                    35523   \n3                          32                107                    37610   \n4                          47                165                    33442   \n...                       ...                ...                      ...   \n1820                       25                 57                     9695   \n1821                       33                 60                     8411   \n1822                       71                173                    29407   \n1823                       47                 36                    10915   \n1824                       68                 70                    17791   \n\n      totaldistance_metro  ...  departure  purpose  choice  bus_metro_av  \\\n0                   45226  ...          1        1       7             1   \n1                   32086  ...          1        0       6             1   \n2                   43068  ...          0        1       7             1   \n3                   58550  ...          1        1       7             1   \n4                   42466  ...          1        1       7             1   \n...                   ...  ...        ...      ...     ...           ...   \n1820                 8658  ...          1        0       7             1   \n1821                 8952  ...          1        1       7             1   \n1822                29598  ...          0        1       5             1   \n1823                17168  ...          1        1       6             1   \n1824                16105  ...          1        1       7             1   \n\n      metro_car_av  bike_metro_av  ebike_metro_av  metro_av  bus_av  \\\n0                1              1               0         1       1   \n1                1              1               0         1       1   \n2                1              1               0         1       1   \n3                1              1               1         1       1   \n4                1              1               1         1       1   \n...            ...            ...             ...       ...     ...   \n1820             1              1               0         1       1   \n1821             1              1               0         1       1   \n1822             1              1               1         1       1   \n1823             1              1               1         1       1   \n1824             1              1               1         1       1   \n\n      totalcost_car_new  \n0              28.95476  \n1              23.35652  \n2              36.67414  \n3              18.49403  \n4              36.73409  \n...                 ...  \n1820            8.42570  \n1821            9.30206  \n1822           36.07682  \n1823            4.68918  \n1824           12.15023  \n\n[1718 rows x 64 columns]",
      "text/html": "<div>\n<style scoped>\n    .dataframe tbody tr th:only-of-type {\n        vertical-align: middle;\n    }\n\n    .dataframe tbody tr th {\n        vertical-align: top;\n    }\n\n    .dataframe thead th {\n        text-align: right;\n    }\n</style>\n<table border=\"1\" class=\"dataframe\">\n  <thead>\n    <tr style=\"text-align: right;\">\n      <th></th>\n      <th>index</th>\n      <th>totalduration_bus_metro</th>\n      <th>totalduration_metro</th>\n      <th>totalduration_bike_metro</th>\n      <th>totalduration_car</th>\n      <th>totalduration_ebike_metro</th>\n      <th>totalduration_metro_car</th>\n      <th>totalduration_bus</th>\n      <th>totaldistance_bus_metro</th>\n      <th>totaldistance_metro</th>\n      <th>...</th>\n      <th>departure</th>\n      <th>purpose</th>\n      <th>choice</th>\n      <th>bus_metro_av</th>\n      <th>metro_car_av</th>\n      <th>bike_metro_av</th>\n      <th>ebike_metro_av</th>\n      <th>metro_av</th>\n      <th>bus_av</th>\n      <th>totalcost_car_new</th>\n    </tr>\n  </thead>\n  <tbody>\n    <tr>\n      <th>0</th>\n      <td>22</td>\n      <td>111</td>\n      <td>121</td>\n      <td>98</td>\n      <td>40</td>\n      <td>94</td>\n      <td>81</td>\n      <td>167</td>\n      <td>47696</td>\n      <td>45226</td>\n      <td>...</td>\n      <td>1</td>\n      <td>1</td>\n      <td>7</td>\n      <td>1</td>\n      <td>1</td>\n      <td>1</td>\n      <td>0</td>\n      <td>1</td>\n      <td>1</td>\n      <td>28.95476</td>\n    </tr>\n    <tr>\n      <th>1</th>\n      <td>47</td>\n      <td>110</td>\n      <td>131</td>\n      <td>93</td>\n      <td>35</td>\n      <td>76</td>\n      <td>76</td>\n      <td>130</td>\n      <td>34362</td>\n      <td>32086</td>\n      <td>...</td>\n      <td>1</td>\n      <td>0</td>\n      <td>6</td>\n      <td>1</td>\n      <td>1</td>\n      <td>1</td>\n      <td>0</td>\n      <td>1</td>\n      <td>1</td>\n      <td>23.35652</td>\n    </tr>\n    <tr>\n      <th>2</th>\n      <td>63</td>\n      <td>109</td>\n      <td>102</td>\n      <td>85</td>\n      <td>34</td>\n      <td>85</td>\n      <td>67</td>\n      <td>129</td>\n      <td>35523</td>\n      <td>43068</td>\n      <td>...</td>\n      <td>0</td>\n      <td>1</td>\n      <td>7</td>\n      <td>1</td>\n      <td>1</td>\n      <td>1</td>\n      <td>0</td>\n      <td>1</td>\n      <td>1</td>\n      <td>36.67414</td>\n    </tr>\n    <tr>\n      <th>3</th>\n      <td>67</td>\n      <td>104</td>\n      <td>124</td>\n      <td>108</td>\n      <td>30</td>\n      <td>108</td>\n      <td>32</td>\n      <td>107</td>\n      <td>37610</td>\n      <td>58550</td>\n      <td>...</td>\n      <td>1</td>\n      <td>1</td>\n      <td>7</td>\n      <td>1</td>\n      <td>1</td>\n      <td>1</td>\n      <td>1</td>\n      <td>1</td>\n      <td>1</td>\n      <td>18.49403</td>\n    </tr>\n    <tr>\n      <th>4</th>\n      <td>81</td>\n      <td>94</td>\n      <td>93</td>\n      <td>82</td>\n      <td>34</td>\n      <td>82</td>\n      <td>47</td>\n      <td>165</td>\n      <td>33442</td>\n      <td>42466</td>\n      <td>...</td>\n      <td>1</td>\n      <td>1</td>\n      <td>7</td>\n      <td>1</td>\n      <td>1</td>\n      <td>1</td>\n      <td>1</td>\n      <td>1</td>\n      <td>1</td>\n      <td>36.73409</td>\n    </tr>\n    <tr>\n      <th>...</th>\n      <td>...</td>\n      <td>...</td>\n      <td>...</td>\n      <td>...</td>\n      <td>...</td>\n      <td>...</td>\n      <td>...</td>\n      <td>...</td>\n      <td>...</td>\n      <td>...</td>\n      <td>...</td>\n      <td>...</td>\n      <td>...</td>\n      <td>...</td>\n      <td>...</td>\n      <td>...</td>\n      <td>...</td>\n      <td>...</td>\n      <td>...</td>\n      <td>...</td>\n      <td>...</td>\n    </tr>\n    <tr>\n      <th>1820</th>\n      <td>43138</td>\n      <td>56</td>\n      <td>57</td>\n      <td>36</td>\n      <td>24</td>\n      <td>36</td>\n      <td>25</td>\n      <td>57</td>\n      <td>9695</td>\n      <td>8658</td>\n      <td>...</td>\n      <td>1</td>\n      <td>0</td>\n      <td>7</td>\n      <td>1</td>\n      <td>1</td>\n      <td>1</td>\n      <td>0</td>\n      <td>1</td>\n      <td>1</td>\n      <td>8.42570</td>\n    </tr>\n    <tr>\n      <th>1821</th>\n      <td>43139</td>\n      <td>61</td>\n      <td>51</td>\n      <td>36</td>\n      <td>21</td>\n      <td>36</td>\n      <td>33</td>\n      <td>60</td>\n      <td>8411</td>\n      <td>8952</td>\n      <td>...</td>\n      <td>1</td>\n      <td>1</td>\n      <td>7</td>\n      <td>1</td>\n      <td>1</td>\n      <td>1</td>\n      <td>0</td>\n      <td>1</td>\n      <td>1</td>\n      <td>9.30206</td>\n    </tr>\n    <tr>\n      <th>1822</th>\n      <td>43141</td>\n      <td>101</td>\n      <td>91</td>\n      <td>74</td>\n      <td>36</td>\n      <td>74</td>\n      <td>71</td>\n      <td>173</td>\n      <td>29407</td>\n      <td>29598</td>\n      <td>...</td>\n      <td>0</td>\n      <td>1</td>\n      <td>5</td>\n      <td>1</td>\n      <td>1</td>\n      <td>1</td>\n      <td>1</td>\n      <td>1</td>\n      <td>1</td>\n      <td>36.07682</td>\n    </tr>\n    <tr>\n      <th>1823</th>\n      <td>43143</td>\n      <td>52</td>\n      <td>68</td>\n      <td>53</td>\n      <td>13</td>\n      <td>53</td>\n      <td>47</td>\n      <td>36</td>\n      <td>10915</td>\n      <td>17168</td>\n      <td>...</td>\n      <td>1</td>\n      <td>1</td>\n      <td>6</td>\n      <td>1</td>\n      <td>1</td>\n      <td>1</td>\n      <td>1</td>\n      <td>1</td>\n      <td>1</td>\n      <td>4.68918</td>\n    </tr>\n    <tr>\n      <th>1824</th>\n      <td>43163</td>\n      <td>100</td>\n      <td>117</td>\n      <td>90</td>\n      <td>24</td>\n      <td>67</td>\n      <td>68</td>\n      <td>70</td>\n      <td>17791</td>\n      <td>16105</td>\n      <td>...</td>\n      <td>1</td>\n      <td>1</td>\n      <td>7</td>\n      <td>1</td>\n      <td>1</td>\n      <td>1</td>\n      <td>1</td>\n      <td>1</td>\n      <td>1</td>\n      <td>12.15023</td>\n    </tr>\n  </tbody>\n</table>\n<p>1718 rows × 64 columns</p>\n</div>"
     },
     "execution_count": 2,
     "metadata": {},
     "output_type": "execute_result"
    }
   ],
   "source": [
    "database.data"
   ],
   "metadata": {
    "collapsed": false,
    "ExecuteTime": {
     "end_time": "2023-11-01T03:44:20.922080Z",
     "start_time": "2023-11-01T03:44:20.894995Z"
    }
   },
   "id": "25fc60664f1f90a5"
  },
  {
   "cell_type": "markdown",
   "source": [
    "# nested 1 single-inter\n",
    "single [car,bus,metro]\n",
    "inter [bike,ebike,bus+metro,metro+car]"
   ],
   "metadata": {
    "collapsed": false
   },
   "id": "ec64d71c75aab7f"
  },
  {
   "cell_type": "code",
   "execution_count": 8,
   "outputs": [],
   "source": [
    "ASC_bus_metro   = exp.Beta('ASC_bus_metro',0,None ,None ,0)  # 常数，相当于`$\\beta{car}$`\n",
    "ASC_metro_car = exp.Beta('ASC_metro_car',0,None ,None ,0)\n",
    "ASC_bike_metro = exp.Beta('ASC_bike_metro',0,None ,None ,0)\n",
    "ASC_ebike_metro = exp.Beta('ASC_ebike_metro',0,None ,None ,0)\n",
    "ASC_metro = exp.Beta('ASC_metro',0,None ,None ,0)\n",
    "ASC_bus = exp.Beta('ASC_bus',0,None ,None ,0)\n",
    "ASC_car = exp.Beta('ASC_car',0,None ,None ,1)\n",
    "\n",
    "B_TIME_bus_metro    = exp.Beta('B_TIME_bus_metro',0,None ,None ,0)  # bus_metro 出行时长前面的系数\n",
    "B_TIME_metro_car = exp.Beta('B_TIME_metro_car',0,None ,None ,0)  # metro_car 出行时长前面的系数\n",
    "B_TIME_bike_metro = exp.Beta('B_TIME_bike_metro',0,None ,None ,0)  # metro 出行时长前面的系数\n",
    "B_TIME_ebike_metro = exp.Beta('B_TIME_ebike_metro',0,None ,None ,0)  # metro 出行时长前面的系数\n",
    "B_TIME_metro = exp.Beta('B_TIME_metro',0,None ,None ,0)  # metro 出行时长前面的系数\n",
    "B_TIME_bus = exp.Beta('B_TIME_bus',0,None ,None ,0)  # bus 出行时长前面的系数\n",
    "B_TIME_car = exp.Beta('B_TIME_car',0,None ,None ,0)  # car 出行时长前面的系数\n",
    "\n",
    "B_COST_Transit = exp.Beta('B_COST_Transit',0,None ,None ,0)  # 出行费用前面的系数\n",
    "B_COST_car = exp.Beta('B_COST_car',0,None ,None ,0)  # 出行费用前面的系数\n",
    "# B_COST_metro_car = exp.Beta('B_COST_metro_car',0,None ,None ,0)  # 出行费用前面的系数\n",
    "\n",
    "\n",
    "B_ACTIME_walk = exp.Beta('B_ACTIME_walk',0,None ,None ,0)  # 换乘时间前面的系数\n",
    "B_ACTIME_bike_ebike = exp.Beta('B_ACTIME_bike_ebike',0,None ,None ,0)\n",
    "B_ACTIME_car = exp.Beta('B_ACTIME_car',0,None ,None ,0)\n",
    "\n",
    "\n",
    "B_TRNUMS= exp.Beta('B_TRNUMS',0,None ,None ,0)  # 换乘次数前面的系数\n",
    "# B_TRNUMS_bus = exp.Beta('B_TRNUMS_bus',0,None ,None ,0)  # 换乘次数前面的系数\n",
    "# B_TRNUMS_bus_metro = exp.Beta('B_TRNUMS_bus_metro',0,None ,None ,0)  # 换乘次数前面的系数\n",
    "B_TRNUMS_car = exp.Beta('B_TRNUMS_car',0,None ,None ,1)  # 换乘次数前面的系数\n",
    "\n",
    "# MU = Beta('MU_metro', 1, 1, 10, 0)\n",
    "# MU = Beta('MU_metro', 1, 1, 10, 0)\n",
    "\n",
    "# Definition of the utility functions\n",
    "\n",
    "\n",
    "\n",
    "\n",
    "V1 = ASC_bus_metro + \\\n",
    "     B_TIME_bus_metro * totalduration_bus_metro + \\\n",
    "     B_COST_Transit * totalcost_bus_metro + \\\n",
    "     B_ACTIME_walk * ac_eg_transfer_duration_bus_metro + \\\n",
    "     B_TRNUMS * transfernum_bus_metro\n",
    "\n",
    "V2 = ASC_metro_car + \\\n",
    "     B_TIME_metro_car * totalduration_metro_car + \\\n",
    "     B_COST_Transit * totalcost_metro_car + \\\n",
    "     B_ACTIME_car * ac_eg_transfer_duration_metro_car + \\\n",
    "     B_TRNUMS * transfernum_metro_car\n",
    "V3 = ASC_bike_metro + \\\n",
    "     B_TIME_bike_metro * totalduration_bike_metro + \\\n",
    "     B_COST_Transit * totalcost_bike_metro + \\\n",
    "     B_ACTIME_bike_ebike * ac_eg_transfer_duration_bike_metro + \\\n",
    "     B_TRNUMS * transfernum_bike_metro\n",
    "V4 = ASC_ebike_metro + \\\n",
    "     B_TIME_ebike_metro * totalduration_ebike_metro + \\\n",
    "     B_COST_Transit * totalcost_ebike_metro + \\\n",
    "     B_ACTIME_bike_ebike * ac_eg_transfer_duration_ebike_metro + \\\n",
    "     B_TRNUMS * transfernum_ebike_metro\n",
    "V5 = ASC_metro + \\\n",
    "     B_TIME_metro * totalduration_metro + \\\n",
    "     B_COST_Transit * totalcost_metro + \\\n",
    "     B_ACTIME_walk * ac_eg_transfer_duration_metro + \\\n",
    "     B_TRNUMS * transfernum_metro\n",
    "V6 = ASC_bus + \\\n",
    "     B_TIME_bus * totalduration_bus + \\\n",
    "     B_COST_Transit * totalcost_bus + \\\n",
    "     B_ACTIME_walk * ac_eg_transfer_duration_bus + \\\n",
    "     B_TRNUMS * transfernum_bus\n",
    "V7 = ASC_car + \\\n",
    "     B_TIME_car * totalduration_car + \\\n",
    "     B_COST_car * totalcost_car_new+ \\\n",
    "     B_TRNUMS_car * transfernum_car\n",
    "\n",
    "\n",
    "V = {1: V1,\n",
    "     2: V2,\n",
    "     3: V3,\n",
    "     4: V4,\n",
    "     5: V5,\n",
    "     6: V6,\n",
    "     7: V7}\n",
    "\n",
    "av = {1: bus_metro_av,\n",
    "      2: metro_car_av,\n",
    "      3: bike_metro_av,\n",
    "      4: ebike_metro_av,\n",
    "      5: metro_av,\n",
    "      6: bus_av,\n",
    "      7: car_av}\n",
    "\n",
    "MU_inter = Beta('MU_inter', 1, 1, None, 0)\n",
    "MU_single = Beta('MU_single', 1, 1, None, 1)\n",
    "\n",
    "metro_nest = MU_inter, [1, 2, 3, 4]\n",
    "bus_nest = MU_single, [5,6,7]\n",
    "\n",
    "\n",
    "nests = bus_nest,metro_nest\n",
    "\n"
   ],
   "metadata": {
    "collapsed": false,
    "ExecuteTime": {
     "end_time": "2023-11-01T04:55:00.216850Z",
     "start_time": "2023-11-01T04:55:00.206793Z"
    }
   },
   "id": "c6ca44b9c6d6bdb1"
  },
  {
   "cell_type": "markdown",
   "source": [],
   "metadata": {
    "collapsed": false
   },
   "id": "3f1959d5867a11c1"
  },
  {
   "cell_type": "code",
   "execution_count": 9,
   "outputs": [
    {
     "name": "stderr",
     "output_type": "stream",
     "text": [
      "Obsolete syntax. Use generate_html instead of generateHtml\n",
      "Obsolete syntax. Use generate_pickle instead of generatePickle\n"
     ]
    },
    {
     "name": "stdout",
     "output_type": "stream",
     "text": [
      "HTML file:    nested_logit_inter_single~01.html\n",
      "Pickle file:  None\n"
     ]
    }
   ],
   "source": [
    "logprob = models.lognested (V, None , nests , choice )# 用log likelihood 来标定模型\n",
    "\n",
    "biogeme  = bio.BIOGEME(database, logprob)\n",
    "biogeme.modelName = \"nested_logit_inter_single\"\n",
    "\n",
    "biogeme.generateHtml = True\n",
    "biogeme.generatePickle = False\n",
    "\n",
    "results = biogeme.estimate()\n",
    "\n",
    "print(f\"HTML file:    {results.data.htmlFileName}\")\n",
    "print(f\"Pickle file:  {results.data.pickleFileName }\")"
   ],
   "metadata": {
    "collapsed": false,
    "ExecuteTime": {
     "end_time": "2023-11-01T04:55:04.292025Z",
     "start_time": "2023-11-01T04:55:02.125635Z"
    }
   },
   "id": "12c71f1034b9c322"
  },
  {
   "cell_type": "code",
   "execution_count": 12,
   "outputs": [],
   "source": [
    "totalcost_metro_car_new = database.DefineVariable('totalcost_metro_car_new',totalcost_metro_car-12)"
   ],
   "metadata": {
    "collapsed": false,
    "ExecuteTime": {
     "end_time": "2023-11-01T05:01:13.559696Z",
     "start_time": "2023-11-01T05:01:13.529482Z"
    }
   },
   "id": "9e966831969f386c"
  },
  {
   "cell_type": "markdown",
   "source": [
    "## distance-based"
   ],
   "metadata": {
    "collapsed": false
   },
   "id": "70080d8f7a40c73c"
  },
  {
   "cell_type": "code",
   "execution_count": 17,
   "outputs": [
    {
     "name": "stderr",
     "output_type": "stream",
     "text": [
      "Obsolete syntax. Use generate_html instead of generateHtml\n",
      "Obsolete syntax. Use generate_pickle instead of generatePickle\n"
     ]
    },
    {
     "name": "stdout",
     "output_type": "stream",
     "text": [
      "HTML file:    intermoal_distance_based_nested~00.html\n",
      "Pickle file:  None\n"
     ]
    }
   ],
   "source": [
    "ASC_bus_metro   = exp.Beta('ASC_bus_metro',0,None ,None ,0)  # 常数，相当于`$\\beta{car}$`\n",
    "ASC_metro_car = exp.Beta('ASC_metro_car',0,None ,None ,0)\n",
    "ASC_bike_metro = exp.Beta('ASC_bike_metro',0,None ,None ,0)\n",
    "ASC_ebike_metro = exp.Beta('ASC_ebike_metro',0,None ,None ,0)\n",
    "ASC_metro = exp.Beta('ASC_metro',0,None ,None ,0)\n",
    "ASC_bus = exp.Beta('ASC_bus',0,None ,None ,0)\n",
    "ASC_car = exp.Beta('ASC_car',0,None ,None ,1)\n",
    "\n",
    "B_Distance_bus_metro = exp.Beta('B_Distance_bus_metro',0,None ,None ,0)\n",
    "B_Distance_metro_car = exp.Beta('B_Distance_metro_car',0,None ,None ,0)  # metro_car 出行时长前面的系数\n",
    "B_Distance_metro_bike = exp.Beta('B_Distance_metro_bike',0,None ,None ,0)\n",
    "B_Distance_metro_ebike = exp.Beta('B_Distance_metro_ebike',0,None ,None ,0)\n",
    "B_Distance_metro = exp.Beta('B_Distance_metro',0,None ,None ,0)\n",
    "B_Distance_bus = exp.Beta('B_Distance_bus',0,None ,None ,0)  # bus 出行时长前面的系数\n",
    "B_Distance_car = exp.Beta('B_Distance_car',0,None ,None ,0)  # car 出行时长前面的系数\n",
    "\n",
    "B_COST_Transit = exp.Beta('B_COST_Transit',0,None ,None ,0)  # 出行费用前面的系数\n",
    "B_COST_car = exp.Beta('B_COST_car',0,None ,None ,0)  # 出行费用前面的系数\n",
    "\n",
    "\n",
    "\n",
    "B_ACDistance_walk = exp.Beta('B_ACDistance_walk',0,None ,None ,0)  # 换乘时间前面的系数\n",
    "B_ACDistance_bike_ebike = exp.Beta('B_ACDistance_bike_ebike',0,None ,None ,0)\n",
    "B_ACDistance_car = exp.Beta('B_ACDistance_car',0,None ,None ,0)\n",
    "# B_ACDistance = exp.Beta('B_ACDistance',0,None ,None ,0)\n",
    "\n",
    "\n",
    "# B_TRNUMS_metro = exp.Beta('B_TRNUMS_metro',0,None ,None ,0)  # 换乘次数前面的系数\n",
    "# B_TRNUMS_bus = exp.Beta('B_TRNUMS_bus',0,None ,None ,0)  # 换乘次数前面的系数\n",
    "# # B_TRNUMS_bus_metro = exp.Beta('B_TRNUMS_bus_metro',0,None ,None ,0)  # 换乘次数前面的系数\n",
    "# B_TRNUMS_car = exp.Beta('B_TRNUMS_car',0,None ,None ,1)  # 换乘次数前面的系数\n",
    "B_TRNUMS= exp.Beta('B_TRNUMS',0,None ,None ,0)\n",
    "\n",
    "\n",
    "V1 = ASC_bus_metro + \\\n",
    "     B_Distance_bus_metro * totaldistance_bus_metro + \\\n",
    "     B_COST_Transit * totalcost_bus_metro + \\\n",
    "     B_ACDistance_walk * ac_eg_transfer_distance_bus_metro + \\\n",
    "     B_TRNUMS * transfernum_bus_metro\n",
    "\n",
    "V2 = ASC_metro_car + \\\n",
    "     B_Distance_metro_car * totaldistance_metro_car + \\\n",
    "     B_COST_Transit * totalcost_metro_car_new + \\\n",
    "     B_ACDistance_car * ac_eg_transfer_distance_metro_car + \\\n",
    "     B_TRNUMS * transfernum_metro_car\n",
    "V3 = ASC_bike_metro + \\\n",
    "     B_Distance_metro_bike * totaldistance_bike_metro + \\\n",
    "     B_COST_Transit * totalcost_bike_metro + \\\n",
    "     B_ACDistance_bike_ebike * ac_eg_transfer_distance_bike_metro + \\\n",
    "     B_TRNUMS * transfernum_bike_metro\n",
    "\n",
    "V4 = ASC_ebike_metro + \\\n",
    "     B_Distance_metro_ebike * totaldistance_ebike_metro + \\\n",
    "     B_COST_Transit * totalcost_ebike_metro + \\\n",
    "     B_ACDistance_bike_ebike * ac_eg_transfer_distance_ebike_metro + \\\n",
    "     B_TRNUMS * transfernum_ebike_metro\n",
    "V5 = ASC_metro + \\\n",
    "     B_Distance_metro * totaldistance_metro + \\\n",
    "     B_COST_Transit * totalcost_metro + \\\n",
    "     B_ACDistance_walk * ac_eg_transfer_distance_metro + \\\n",
    "     B_TRNUMS * transfernum_metro\n",
    "V6 = ASC_bus + \\\n",
    "     B_Distance_bus * totaldistance_bus + \\\n",
    "     B_COST_Transit * totalcost_bus + \\\n",
    "     B_ACDistance_walk * ac_eg_transfer_distance_bus + \\\n",
    "     B_TRNUMS * transfernum_bus\n",
    "V7 = ASC_car + \\\n",
    "     B_Distance_car * totaldistance_car + \\\n",
    "     B_COST_car * totalcost_car\n",
    "\n",
    "\n",
    "V = {1: V1,\n",
    "     2: V2,\n",
    "     3: V3,\n",
    "     4: V4,\n",
    "     5: V5,\n",
    "     6: V6,\n",
    "     7: V7}\n",
    "\n",
    "av = {1: bus_metro_av,\n",
    "      2: metro_car_av,\n",
    "      3: bike_metro_av,\n",
    "      4: ebike_metro_av,\n",
    "      5: metro_av,\n",
    "      6: bus_av,\n",
    "      7: car_av}\n",
    "\n",
    "\n",
    "MU_inter = Beta('MU_inter', 1, 1, None, 0)\n",
    "MU_single = Beta('MU_single', 1, 1, None, 1)\n",
    "\n",
    "metro_nest = MU_inter, [1, 2, 3, 4]\n",
    "bus_nest = MU_single, [5,6,7]\n",
    "\n",
    "\n",
    "nests = bus_nest,metro_nest\n",
    "\n",
    "\n",
    "logprob = models.lognested (V, None , nests , choice ) # 用log likelihood 来标定模型\n",
    "\n",
    "biogeme  = bio.BIOGEME(database, logprob)\n",
    "biogeme.modelName = \"intermoal_distance_based_nested\"\n",
    "\n",
    "biogeme.generateHtml = True\n",
    "biogeme.generatePickle = False\n",
    "\n",
    "results = biogeme.estimate()\n",
    "\n",
    "print(f\"HTML file:    {results.data.htmlFileName}\")\n",
    "print(f\"Pickle file:  {results.data.pickleFileName }\")\n"
   ],
   "metadata": {
    "collapsed": false,
    "ExecuteTime": {
     "end_time": "2023-11-01T09:51:42.325329Z",
     "start_time": "2023-11-01T09:51:20.049055Z"
    }
   },
   "id": "81885402f52d801a"
  },
  {
   "cell_type": "code",
   "execution_count": 79,
   "outputs": [
    {
     "name": "stdout",
     "output_type": "stream",
     "text": [
      "Number of estimated parameters               = 20\n",
      "Sample size                                  = 1718\n",
      "Excluded observations                        = 0\n",
      "Init log likelihood                          = -21976.76197802968\n",
      "Final log likelihood                         = -1801.935794195769\n",
      "Likelihood ratio test for the init. model    = 40349.652367667826\n",
      "Rho-square for the init. model               = 0.918007220718085\n",
      "Rho-square-bar for the init. model           = 0.9170971685447943\n",
      "Akaike Information Criterion                 = 3643.871588391538\n",
      "Bayesian Information Criterion               = 3752.849910442422\n",
      "Final gradient norm                          = 0.13616915020207046\n",
      "Nbr of threads                               = 10\n"
     ]
    }
   ],
   "source": [
    "gs = results.getGeneralStatistics()\n",
    "\n",
    "for k,v in gs.items():\n",
    "    print(\"{}= {}\".format(k.ljust(45),v[0]))"
   ],
   "metadata": {
    "collapsed": false,
    "ExecuteTime": {
     "end_time": "2023-10-25T16:05:00.079074Z",
     "start_time": "2023-10-25T16:05:00.063715Z"
    }
   },
   "id": "6c6def8ec82efe72"
  },
  {
   "cell_type": "markdown",
   "source": [
    "# nested 2 single-transit-inter\n",
    "\n",
    "single [car,transit] [bus,metro]\n",
    "inter [bike,ebike,bus+metro,metro+car]"
   ],
   "metadata": {
    "collapsed": false
   },
   "id": "fd2f446f4b95fed4"
  },
  {
   "cell_type": "code",
   "execution_count": 14,
   "outputs": [
    {
     "name": "stderr",
     "output_type": "stream",
     "text": [
      "Obsolete syntax. Use generate_html instead of generateHtml\n",
      "Obsolete syntax. Use generate_pickle instead of generatePickle\n"
     ]
    },
    {
     "name": "stdout",
     "output_type": "stream",
     "text": [
      "HTML file:    nested_logit_single-transit-inter.html\n",
      "Pickle file:  None\n"
     ]
    }
   ],
   "source": [
    "ASC_bus_metro   = exp.Beta('ASC_bus_metro',0,None ,None ,0)  # 常数，相当于`$\\beta{car}$`\n",
    "ASC_metro_car = exp.Beta('ASC_metro_car',0,None ,None ,0)\n",
    "ASC_bike_metro = exp.Beta('ASC_bike_metro',0,None ,None ,0)\n",
    "ASC_ebike_metro = exp.Beta('ASC_ebike_metro',0,None ,None ,0)\n",
    "ASC_metro = exp.Beta('ASC_metro',0,None ,None ,0)\n",
    "ASC_bus = exp.Beta('ASC_bus',0,None ,None ,0)\n",
    "ASC_car = exp.Beta('ASC_car',0,None ,None ,1)\n",
    "\n",
    "B_TIME_bus_metro    = exp.Beta('B_TIME_bus_metro',0,None ,None ,0)  # bus_metro 出行时长前面的系数\n",
    "B_TIME_metro_car = exp.Beta('B_TIME_metro_car',0,None ,None ,0)  # metro_car 出行时长前面的系数\n",
    "B_TIME_bike_metro = exp.Beta('B_TIME_bike_metro',0,None ,None ,0)  # metro 出行时长前面的系数\n",
    "B_TIME_ebike_metro = exp.Beta('B_TIME_ebike_metro',0,None ,None ,0)  # metro 出行时长前面的系数\n",
    "B_TIME_metro = exp.Beta('B_TIME_metro',0,None ,None ,0)  # metro 出行时长前面的系数\n",
    "B_TIME_bus = exp.Beta('B_TIME_bus',0,None ,None ,0)  # bus 出行时长前面的系数\n",
    "B_TIME_car = exp.Beta('B_TIME_car',0,None ,None ,0)  # car 出行时长前面的系数\n",
    "\n",
    "B_COST_Transit = exp.Beta('B_COST_Transit',0,None ,None ,0)  # 出行费用前面的系数\n",
    "B_COST_car = exp.Beta('B_COST_car',0,None ,None ,0)  # 出行费用前面的系数\n",
    "\n",
    "\n",
    "\n",
    "B_ACTIME_walk = exp.Beta('B_ACTIME_walk',0,None ,None ,0)  # 换乘时间前面的系数\n",
    "B_ACTIME_bike_ebike = exp.Beta('B_ACTIME_bike_ebike',0,None ,None ,0)\n",
    "B_ACTIME_car = exp.Beta('B_ACTIME_car',0,None ,None ,0)\n",
    "\n",
    "\n",
    "B_TRNUMS = exp.Beta('B_TRNUMS',0,None ,None ,0)  # 换乘次数前面的系数\n",
    "# B_TRNUMS_bus = exp.Beta('B_TRNUMS_bus',0,None ,None ,0)  # 换乘次数前面的系数\n",
    "# B_TRNUMS_bus_metro = exp.Beta('B_TRNUMS_bus_metro',0,None ,None ,0)  # 换乘次数前面的系数\n",
    "B_TRNUMS_car = exp.Beta('B_TRNUMS_car',0,None ,None ,1)  # 换乘次数前面的系数\n",
    "\n",
    "# MU = Beta('MU_metro', 1, 1, 10, 0)\n",
    "\n",
    "# Definition of the utility functions\n",
    "\n",
    "\n",
    "V1 = ASC_bus_metro + \\\n",
    "     B_TIME_bus_metro * totalduration_bus_metro + \\\n",
    "     B_COST_Transit * totalcost_bus_metro + \\\n",
    "     B_ACTIME_walk * ac_eg_transfer_duration_bus_metro + \\\n",
    "     B_TRNUMS * transfernum_bus_metro\n",
    "\n",
    "V2 = ASC_metro_car + \\\n",
    "     B_TIME_metro_car * totalduration_metro_car + \\\n",
    "     B_COST_Transit * totalcost_metro_car + \\\n",
    "     B_ACTIME_car * ac_eg_transfer_duration_metro_car + \\\n",
    "     B_TRNUMS * transfernum_metro_car\n",
    "V3 = ASC_bike_metro + \\\n",
    "     B_TIME_bike_metro * totalduration_bike_metro + \\\n",
    "     B_COST_Transit * totalcost_bike_metro + \\\n",
    "     B_ACTIME_bike_ebike * ac_eg_transfer_duration_bike_metro + \\\n",
    "     B_TRNUMS * transfernum_bike_metro\n",
    "V4 = ASC_ebike_metro + \\\n",
    "     B_TIME_ebike_metro * totalduration_ebike_metro + \\\n",
    "     B_COST_Transit * totalcost_ebike_metro + \\\n",
    "     B_ACTIME_bike_ebike * ac_eg_transfer_duration_ebike_metro + \\\n",
    "     B_TRNUMS * transfernum_ebike_metro\n",
    "V5 = ASC_metro + \\\n",
    "     B_TIME_metro * totalduration_metro + \\\n",
    "     B_COST_Transit * totalcost_metro + \\\n",
    "     B_ACTIME_walk * ac_eg_transfer_duration_metro + \\\n",
    "     B_TRNUMS * transfernum_metro\n",
    "V6 = ASC_bus + \\\n",
    "     B_TIME_bus * totalduration_bus + \\\n",
    "     B_COST_Transit * totalcost_bus + \\\n",
    "     B_ACTIME_walk * ac_eg_transfer_duration_bus + \\\n",
    "     B_TRNUMS * transfernum_bus\n",
    "V7 = ASC_car + \\\n",
    "     B_TIME_car * totalduration_car + \\\n",
    "     B_COST_car * totalcost_car_new+ \\\n",
    "     B_ACTIME_car * ac_eg_transfer_duration_car + \\\n",
    "     B_TRNUMS_car * transfernum_car\n",
    "\n",
    "\n",
    "V = {1: V1,\n",
    "     2: V2,\n",
    "     3: V3,\n",
    "     4: V4,\n",
    "     5: V5,\n",
    "     6: V6,\n",
    "     7: V7}\n",
    "\n",
    "av = {1: bus_metro_av,\n",
    "      2: metro_car_av,\n",
    "      3: bike_metro_av,\n",
    "      4: ebike_metro_av,\n",
    "      5: metro_av,\n",
    "      6: bus_av,\n",
    "      7: car_av}\n",
    "\n",
    "MU_single_transit = Beta('MU_single_transit', 1, 1, None, 0)\n",
    "MU_inter = Beta('MU_inter', 1, 1, None, 0)\n",
    "\n",
    "single_transit_nest = MU_single_transit, [5,6]\n",
    "inter_nest = MU_inter, [1,2,3,4]\n",
    "car_nest = 1.0, [7]\n",
    "\n",
    "\n",
    "\n",
    "nests = car_nest,single_transit_nest,inter_nest\n",
    "\n",
    "logprob = models.lognested (V, None , nests , choice )# 用log likelihood 来标定模型\n",
    "\n",
    "biogeme  = bio.BIOGEME(database, logprob)\n",
    "biogeme.modelName = \"nested_logit_single_transit_inter\"\n",
    "\n",
    "biogeme.generateHtml = True\n",
    "biogeme.generatePickle = False\n",
    "\n",
    "results = biogeme.estimate()\n",
    "\n",
    "print(f\"HTML file:    {results.data.htmlFileName}\")\n",
    "print(f\"Pickle file:  {results.data.pickleFileName }\")"
   ],
   "metadata": {
    "collapsed": false,
    "ExecuteTime": {
     "end_time": "2023-11-01T05:08:37.554280Z",
     "start_time": "2023-11-01T05:08:28.400192Z"
    }
   },
   "id": "98fc2c9654c96b00"
  },
  {
   "cell_type": "markdown",
   "source": [
    "# nested 3 非机动化，机动化\n",
    "\n",
    "非机动化，和机动化"
   ],
   "metadata": {
    "collapsed": false
   },
   "id": "f456bb0d9649c40b"
  },
  {
   "cell_type": "code",
   "execution_count": 15,
   "outputs": [
    {
     "name": "stderr",
     "output_type": "stream",
     "text": [
      "Obsolete syntax. Use generate_html instead of generateHtml\n",
      "Obsolete syntax. Use generate_pickle instead of generatePickle\n"
     ]
    },
    {
     "name": "stdout",
     "output_type": "stream",
     "text": [
      "HTML file:    nested_logit_single_inter_nocar.html\n",
      "Pickle file:  nested_logit_single_inter_nocar.pickle\n"
     ]
    }
   ],
   "source": [
    "ASC_bus_metro   = exp.Beta('ASC_bus_metro',0,None ,None ,0)  # 常数，相当于`$\\beta{car}$`\n",
    "ASC_metro_car = exp.Beta('ASC_metro_car',0,None ,None ,0)\n",
    "ASC_bike_metro = exp.Beta('ASC_bike_metro',0,None ,None ,0)\n",
    "ASC_ebike_metro = exp.Beta('ASC_ebike_metro',0,None ,None ,0)\n",
    "ASC_metro = exp.Beta('ASC_metro',0,None ,None ,0)\n",
    "ASC_bus = exp.Beta('ASC_bus',0,None ,None ,0)\n",
    "ASC_car = exp.Beta('ASC_car',0,None ,None ,1)\n",
    "\n",
    "B_TIME_bus_metro    = exp.Beta('B_TIME_bus_metro',0,None ,None ,0)  # bus_metro 出行时长前面的系数\n",
    "B_TIME_metro_car = exp.Beta('B_TIME_metro_car',0,None ,None ,0)  # metro_car 出行时长前面的系数\n",
    "B_TIME_bike_metro = exp.Beta('B_TIME_bike_metro',0,None ,None ,0)  # metro 出行时长前面的系数\n",
    "B_TIME_ebike_metro = exp.Beta('B_TIME_ebike_metro',0,None ,None ,0)  # metro 出行时长前面的系数\n",
    "B_TIME_metro = exp.Beta('B_TIME_metro',0,None ,None ,0)  # metro 出行时长前面的系数\n",
    "B_TIME_bus = exp.Beta('B_TIME_bus',0,None ,None ,0)  # bus 出行时长前面的系数\n",
    "B_TIME_car = exp.Beta('B_TIME_car',0,None ,None ,0)  # car 出行时长前面的系数\n",
    "\n",
    "B_COST_Transit = exp.Beta('B_COST_Transit',0,None ,None ,0)  # 出行费用前面的系数\n",
    "B_COST_car = exp.Beta('B_COST_car',0,None ,None ,0)  # 出行费用前面的系数\n",
    "\n",
    "\n",
    "\n",
    "B_ACTIME_walk = exp.Beta('B_ACTIME_walk',0,None ,None ,0)  # 换乘时间前面的系数\n",
    "B_ACTIME_bike_ebike = exp.Beta('B_ACTIME_bike_ebike',0,None ,None ,0)\n",
    "B_ACTIME_car = exp.Beta('B_ACTIME_car',0,None ,None ,0)\n",
    "\n",
    "\n",
    "B_TRNUMS_metro = exp.Beta('B_TRNUMS_metro',0,None ,None ,0)  # 换乘次数前面的系数\n",
    "# B_TRNUMS_bus = exp.Beta('B_TRNUMS_bus',0,None ,None ,0)  # 换乘次数前面的系数\n",
    "# B_TRNUMS_bus_metro = exp.Beta('B_TRNUMS_bus_metro',0,None ,None ,0)  # 换乘次数前面的系数\n",
    "B_TRNUMS_car = exp.Beta('B_TRNUMS_car',0,None ,None ,1)  # 换乘次数前面的系数\n",
    "\n",
    "\n",
    "# Definition of the utility functions\n",
    "\n",
    "\n",
    "V1 = ASC_bus_metro + \\\n",
    "     B_TIME_bus_metro * totalduration_bus_metro + \\\n",
    "     B_COST_Transit * totalcost_bus_metro + \\\n",
    "     B_ACTIME_walk * ac_eg_transfer_duration_bus_metro + \\\n",
    "     B_TRNUMS_metro * transfernum_bus_metro\n",
    "\n",
    "V2 = ASC_metro_car + \\\n",
    "     B_TIME_metro_car * totalduration_metro_car + \\\n",
    "     B_COST_Transit * totalcost_metro_car + \\\n",
    "     B_ACTIME_car * ac_eg_transfer_duration_metro_car + \\\n",
    "     B_TRNUMS_metro * transfernum_metro_car\n",
    "V3 = ASC_bike_metro + \\\n",
    "     B_TIME_bike_metro * totalduration_bike_metro + \\\n",
    "     B_COST_Transit * totalcost_bike_metro + \\\n",
    "     B_ACTIME_bike_ebike * ac_eg_transfer_duration_bike_metro + \\\n",
    "     B_TRNUMS_metro * transfernum_bike_metro\n",
    "V4 = ASC_ebike_metro + \\\n",
    "     B_TIME_ebike_metro * totalduration_ebike_metro + \\\n",
    "     B_COST_Transit * totalcost_ebike_metro + \\\n",
    "     B_ACTIME_bike_ebike * ac_eg_transfer_duration_ebike_metro + \\\n",
    "     B_TRNUMS_metro * transfernum_ebike_metro\n",
    "V5 = ASC_metro + \\\n",
    "     B_TIME_metro * totalduration_metro + \\\n",
    "     B_COST_Transit * totalcost_metro + \\\n",
    "     B_ACTIME_walk * ac_eg_transfer_duration_metro + \\\n",
    "     B_TRNUMS_metro * transfernum_metro\n",
    "V6 = ASC_bus + \\\n",
    "     B_TIME_bus * totalduration_bus + \\\n",
    "     B_COST_Transit * totalcost_bus + \\\n",
    "     B_ACTIME_walk * ac_eg_transfer_duration_bus + \\\n",
    "     B_TRNUMS_metro * transfernum_bus\n",
    "V7 = ASC_car + \\\n",
    "     B_TIME_car * totalduration_car + \\\n",
    "     B_COST_car * totalcost_car_new+ \\\n",
    "     B_ACTIME_car * ac_eg_transfer_duration_car + \\\n",
    "     B_TRNUMS_car * transfernum_car\n",
    "\n",
    "\n",
    "V = {1: V1,\n",
    "     2: V2,\n",
    "     3: V3,\n",
    "     4: V4,\n",
    "     5: V5,\n",
    "     6: V6,\n",
    "     7: V7}\n",
    "\n",
    "av = {1: bus_metro_av,\n",
    "      2: metro_car_av,\n",
    "      3: bike_metro_av,\n",
    "      4: ebike_metro_av,\n",
    "      5: metro_av,\n",
    "      6: bus_av,\n",
    "      7: car_av}\n",
    "\n",
    "MU_metro_Novehicle = Beta('MU_metro_Novehicle', 1, 1, None, 0)\n",
    "\n",
    "metro_Novehicle_nest = MU_metro_Novehicle, [1,3,4]\n",
    "metro_car_nest = 1.0, [2]\n",
    "single_nest = 1.0, [5,6,7]\n",
    "\n",
    "\n",
    "\n",
    "nests = single_nest,metro_car_nest,metro_Novehicle_nest\n",
    "\n",
    "logprob = models.lognested (V, None , nests , choice )# 用log likelihood 来标定模型\n",
    "\n",
    "biogeme  = bio.BIOGEME(database, logprob)\n",
    "biogeme.modelName = \"nested_logit_single_inter_nocar\"\n",
    "\n",
    "biogeme.generateHtml = True\n",
    "biogeme.generatePickle = True\n",
    "\n",
    "results = biogeme.estimate()\n",
    "\n",
    "print(f\"HTML file:    {results.data.htmlFileName}\")\n",
    "print(f\"Pickle file:  {results.data.pickleFileName }\")\n",
    "\n"
   ],
   "metadata": {
    "collapsed": false,
    "ExecuteTime": {
     "end_time": "2023-11-01T05:19:10.714872Z",
     "start_time": "2023-11-01T05:19:03.435664Z"
    }
   },
   "id": "f40b5eb140e2fef8"
  },
  {
   "cell_type": "markdown",
   "source": [
    "## distance based"
   ],
   "metadata": {
    "collapsed": false
   },
   "id": "1c2287afe3ced1dc"
  },
  {
   "cell_type": "code",
   "execution_count": 16,
   "outputs": [
    {
     "name": "stderr",
     "output_type": "stream",
     "text": [
      "Obsolete syntax. Use generate_html instead of generateHtml\n",
      "Obsolete syntax. Use generate_pickle instead of generatePickle\n"
     ]
    },
    {
     "name": "stdout",
     "output_type": "stream",
     "text": [
      "HTML file:    nested_logit_single_inter_nocar_distance.html\n",
      "Pickle file:  nested_logit_single_inter_nocar_distance.pickle\n"
     ]
    }
   ],
   "source": [
    "ASC_bus_metro   = exp.Beta('ASC_bus_metro',0,None ,None ,0)  # 常数，相当于`$\\beta{car}$`\n",
    "ASC_metro_car = exp.Beta('ASC_metro_car',0,None ,None ,0)\n",
    "ASC_bike_metro = exp.Beta('ASC_bike_metro',0,None ,None ,0)\n",
    "ASC_ebike_metro = exp.Beta('ASC_ebike_metro',0,None ,None ,0)\n",
    "ASC_metro = exp.Beta('ASC_metro',0,None ,None ,0)\n",
    "ASC_bus = exp.Beta('ASC_bus',0,None ,None ,0)\n",
    "ASC_car = exp.Beta('ASC_car',0,None ,None ,1)\n",
    "\n",
    "B_Distance_bus_metro = exp.Beta('B_Distance_bus_metro',0,None ,None ,0)\n",
    "B_Distance_metro_car = exp.Beta('B_Distance_metro_car',0,None ,None ,0)  # metro_car 出行时长前面的系数\n",
    "B_Distance_metro_bike = exp.Beta('B_Distance_metro_bike',0,None ,None ,0)\n",
    "B_Distance_metro_ebike = exp.Beta('B_Distance_metro_ebike',0,None ,None ,0)\n",
    "B_Distance_metro = exp.Beta('B_Distance_metro_ebike',0,None ,None ,0)\n",
    "B_Distance_bus = exp.Beta('B_Distance_bus',0,None ,None ,0)  # bus 出行时长前面的系数\n",
    "B_Distance_car = exp.Beta('B_Distance_car',0,None ,None ,0)  # car 出行时长前面的系数\n",
    "\n",
    "B_COST_Transit = exp.Beta('B_COST_Transit',0,None ,None ,0)  # 出行费用前面的系数\n",
    "B_COST_car = exp.Beta('B_COST_car',0,None ,None ,0)  # 出行费用前面的系数\n",
    "\n",
    "\n",
    "\n",
    "B_ACDistance_walk = exp.Beta('B_ACDistance_walk',0,None ,None ,0)  # 换乘时间前面的系数\n",
    "B_ACDistance_bike_ebike = exp.Beta('B_ACDistance_bike_ebike',0,None ,None ,0)\n",
    "B_ACDistance_car = exp.Beta('B_ACDistance_car',0,None ,None ,0)\n",
    "# B_ACDistance = exp.Beta('B_ACDistance',0,None ,None ,0)\n",
    "\n",
    "\n",
    "# B_TRNUMS_metro = exp.Beta('B_TRNUMS_metro',0,None ,None ,0)  # 换乘次数前面的系数\n",
    "# B_TRNUMS_bus = exp.Beta('B_TRNUMS_bus',0,None ,None ,0)  # 换乘次数前面的系数\n",
    "# # B_TRNUMS_bus_metro = exp.Beta('B_TRNUMS_bus_metro',0,None ,None ,0)  # 换乘次数前面的系数\n",
    "# B_TRNUMS_car = exp.Beta('B_TRNUMS_car',0,None ,None ,1)  # 换乘次数前面的系数\n",
    "B_TRNUMS= exp.Beta('B_TRNUMS',0,None ,None ,0)\n",
    "\n",
    "\n",
    "V1 = ASC_bus_metro + \\\n",
    "     B_Distance_bus_metro * totaldistance_bus_metro + \\\n",
    "     B_COST_Transit * totalcost_bus_metro + \\\n",
    "     B_ACDistance_walk * ac_eg_transfer_distance_bus_metro + \\\n",
    "     B_TRNUMS * transfernum_bus_metro\n",
    "\n",
    "V2 = ASC_metro_car + \\\n",
    "     B_Distance_metro_car * totaldistance_metro_car + \\\n",
    "     B_COST_Transit * totalcost_metro_car_new + \\\n",
    "     B_ACDistance_car * ac_eg_transfer_distance_metro_car + \\\n",
    "     B_TRNUMS * transfernum_metro_car\n",
    "V3 = ASC_bike_metro + \\\n",
    "     B_Distance_metro_bike * totaldistance_bike_metro + \\\n",
    "     B_COST_Transit * totalcost_bike_metro + \\\n",
    "     B_ACDistance_bike_ebike * ac_eg_transfer_distance_bike_metro + \\\n",
    "     B_TRNUMS * transfernum_bike_metro\n",
    "\n",
    "V4 = ASC_ebike_metro + \\\n",
    "     B_Distance_metro_ebike * totaldistance_ebike_metro + \\\n",
    "     B_COST_Transit * totalcost_ebike_metro + \\\n",
    "     B_ACDistance_bike_ebike * ac_eg_transfer_distance_ebike_metro + \\\n",
    "     B_TRNUMS * transfernum_ebike_metro\n",
    "V5 = ASC_metro + \\\n",
    "     B_Distance_metro * totaldistance_metro + \\\n",
    "     B_COST_Transit * totalcost_metro + \\\n",
    "     B_ACDistance_walk * ac_eg_transfer_distance_metro + \\\n",
    "     B_TRNUMS * transfernum_metro\n",
    "V6 = ASC_bus + \\\n",
    "     B_Distance_bus * totaldistance_bus + \\\n",
    "     B_COST_Transit * totalcost_bus + \\\n",
    "     B_ACDistance_walk * ac_eg_transfer_distance_bus + \\\n",
    "     B_TRNUMS * transfernum_bus\n",
    "V7 = ASC_car + \\\n",
    "     B_Distance_car * totaldistance_car + \\\n",
    "     B_COST_car * totalcost_car\n",
    "\n",
    "\n",
    "V = {1: V1,\n",
    "     2: V2,\n",
    "     3: V3,\n",
    "     4: V4,\n",
    "     5: V5,\n",
    "     6: V6,\n",
    "     7: V7}\n",
    "\n",
    "av = {1: bus_metro_av,\n",
    "      2: metro_car_av,\n",
    "      3: bike_metro_av,\n",
    "      4: ebike_metro_av,\n",
    "      5: metro_av,\n",
    "      6: bus_av,\n",
    "      7: car_av}\n",
    "\n",
    "\n",
    "MU_metro_Novehicle = Beta('MU_metro_Novehicle', 1, 1, None, 0)\n",
    "\n",
    "metro_Novehicle_nest = MU_metro_Novehicle, [1,3,4]\n",
    "metro_car_nest = 1.0, [2]\n",
    "single_nest = 1.0, [5,6,7]\n",
    "\n",
    "\n",
    "\n",
    "nests = single_nest,metro_car_nest,metro_Novehicle_nest\n",
    "\n",
    "logprob = models.lognested (V, None , nests , choice )# 用log likelihood 来标定模型\n",
    "\n",
    "biogeme  = bio.BIOGEME(database, logprob)\n",
    "biogeme.modelName = \"nested_logit_single_inter_nocar\"\n",
    "\n",
    "biogeme.generateHtml = True\n",
    "biogeme.generatePickle = True\n",
    "\n",
    "results = biogeme.estimate()\n",
    "\n",
    "print(f\"HTML file:    {results.data.htmlFileName}\")\n",
    "print(f\"Pickle file:  {results.data.pickleFileName }\")"
   ],
   "metadata": {
    "collapsed": false,
    "ExecuteTime": {
     "end_time": "2023-11-01T05:22:17.811937Z",
     "start_time": "2023-11-01T05:21:56.346842Z"
    }
   },
   "id": "54475c9cbb2d750e"
  },
  {
   "cell_type": "code",
   "execution_count": null,
   "outputs": [],
   "source": [
    "example_nested.get_statsmodels_summary()"
   ],
   "metadata": {
    "collapsed": false
   },
   "id": "154f2bb479a547a4"
  },
  {
   "cell_type": "markdown",
   "source": [
    "# nested 4"
   ],
   "metadata": {
    "collapsed": false
   },
   "id": "8aed6ab88777818c"
  },
  {
   "cell_type": "code",
   "execution_count": 84,
   "outputs": [
    {
     "name": "stderr",
     "output_type": "stream",
     "text": [
      "Obsolete syntax. Use generate_html instead of generateHtml\n",
      "Obsolete syntax. Use generate_pickle instead of generatePickle\n"
     ]
    },
    {
     "name": "stdout",
     "output_type": "stream",
     "text": [
      "HTML file:    nested_logit_car_metro_car_transit.html\n",
      "Pickle file:  nested_logit_car_metro_car_transit.pickle\n"
     ]
    }
   ],
   "source": [
    "ASC_bus_metro   = exp.Beta('ASC_bus_metro',0,None ,None ,0)  # 常数，相当于`$\\beta{car}$`\n",
    "ASC_metro_car = exp.Beta('ASC_metro_car',0,None ,None ,0)\n",
    "ASC_bike_metro = exp.Beta('ASC_bike_metro',0,None ,None ,0)\n",
    "ASC_ebike_metro = exp.Beta('ASC_ebike_metro',0,None ,None ,0)\n",
    "ASC_metro = exp.Beta('ASC_metro',0,None ,None ,0)\n",
    "ASC_bus = exp.Beta('ASC_bus',0,None ,None ,0)\n",
    "ASC_car = exp.Beta('ASC_car',0,None ,None ,1)\n",
    "\n",
    "B_TIME_bus_metro    = exp.Beta('B_TIME_bus_metro',0,None ,None ,0)  # bus_metro 出行时长前面的系数\n",
    "B_TIME_metro_car = exp.Beta('B_TIME_metro_car',0,None ,None ,0)  # metro_car 出行时长前面的系数\n",
    "B_TIME_bike_metro = exp.Beta('B_TIME_bike_metro',0,None ,None ,0)  # metro 出行时长前面的系数\n",
    "B_TIME_ebike_metro = exp.Beta('B_TIME_ebike_metro',0,None ,None ,0)  # metro 出行时长前面的系数\n",
    "B_TIME_metro = exp.Beta('B_TIME_metro',0,None ,None ,0)  # metro 出行时长前面的系数\n",
    "B_TIME_bus = exp.Beta('B_TIME_bus',0,None ,None ,0)  # bus 出行时长前面的系数\n",
    "B_TIME_car = exp.Beta('B_TIME_car',0,None ,None ,0)  # car 出行时长前面的系数\n",
    "\n",
    "B_COST_Transit = exp.Beta('B_COST_Transit',0,None ,None ,0)  # 出行费用前面的系数\n",
    "B_COST_car = exp.Beta('B_COST_car',0,None ,None ,0)  # 出行费用前面的系数\n",
    "\n",
    "\n",
    "\n",
    "B_ACTIME_walk = exp.Beta('B_ACTIME_walk',0,None ,None ,0)  # 换乘时间前面的系数\n",
    "B_ACTIME_bike_ebike = exp.Beta('B_ACTIME_bike_ebike',0,None ,None ,0)\n",
    "B_ACTIME_car = exp.Beta('B_ACTIME_car',0,None ,None ,0)\n",
    "\n",
    "\n",
    "B_TRNUMS_metro = exp.Beta('B_TRNUMS_metro',0,None ,None ,0)  # 换乘次数前面的系数\n",
    "# B_TRNUMS_bus = exp.Beta('B_TRNUMS_bus',0,None ,None ,0)  # 换乘次数前面的系数\n",
    "# B_TRNUMS_bus_metro = exp.Beta('B_TRNUMS_bus_metro',0,None ,None ,0)  # 换乘次数前面的系数\n",
    "B_TRNUMS_car = exp.Beta('B_TRNUMS_car',0,None ,None ,1)  # 换乘次数前面的系数\n",
    "\n",
    "MU = Beta('MU_metro', 1, 1, 10, 0)\n",
    "\n",
    "# Definition of the utility functions\n",
    "\n",
    "\n",
    "V1 = ASC_bus_metro + \\\n",
    "     B_TIME_bus_metro * totalduration_bus_metro + \\\n",
    "     B_COST_Transit * totalcost_bus_metro + \\\n",
    "     B_ACTIME_walk * ac_eg_transfer_duration_bus_metro + \\\n",
    "     B_TRNUMS_metro * transfernum_bus_metro\n",
    "\n",
    "V2 = ASC_metro_car + \\\n",
    "     B_TIME_metro_car * totalduration_metro_car + \\\n",
    "     B_COST_Transit * totalcost_metro_car + \\\n",
    "     B_ACTIME_car * ac_eg_transfer_duration_metro_car + \\\n",
    "     B_TRNUMS_metro * transfernum_metro_car\n",
    "V3 = ASC_bike_metro + \\\n",
    "     B_TIME_bike_metro * totalduration_bike_metro + \\\n",
    "     B_COST_Transit * totalcost_bike_metro + \\\n",
    "     B_ACTIME_bike_ebike * ac_eg_transfer_duration_bike_metro + \\\n",
    "     B_TRNUMS_metro * transfernum_bike_metro\n",
    "V4 = ASC_ebike_metro + \\\n",
    "     B_TIME_ebike_metro * totalduration_ebike_metro + \\\n",
    "     B_COST_Transit * totalcost_ebike_metro + \\\n",
    "     B_ACTIME_bike_ebike * ac_eg_transfer_duration_ebike_metro + \\\n",
    "     B_TRNUMS_metro * transfernum_ebike_metro\n",
    "V5 = ASC_metro + \\\n",
    "     B_TIME_metro * totalduration_metro + \\\n",
    "     B_COST_Transit * totalcost_metro + \\\n",
    "     B_ACTIME_walk * ac_eg_transfer_duration_metro + \\\n",
    "     B_TRNUMS_metro * transfernum_metro\n",
    "V6 = ASC_bus + \\\n",
    "     B_TIME_bus * totalduration_bus + \\\n",
    "     B_COST_Transit * totalcost_bus + \\\n",
    "     B_ACTIME_walk * ac_eg_transfer_duration_bus + \\\n",
    "     B_TRNUMS_metro * transfernum_bus\n",
    "V7 = ASC_car + \\\n",
    "     B_TIME_car * totalduration_car + \\\n",
    "     B_COST_car * totalcost_car_new+ \\\n",
    "     B_ACTIME_car * ac_eg_transfer_duration_car + \\\n",
    "     B_TRNUMS_car * transfernum_car\n",
    "\n",
    "\n",
    "V = {1: V1,\n",
    "     2: V2,\n",
    "     3: V3,\n",
    "     4: V4,\n",
    "     5: V5,\n",
    "     6: V6,\n",
    "     7: V7}\n",
    "\n",
    "av = {1: bus_metro_av,\n",
    "      2: metro_car_av,\n",
    "      3: bike_metro_av,\n",
    "      4: ebike_metro_av,\n",
    "      5: metro_av,\n",
    "      6: bus_av,\n",
    "      7: car_av}\n",
    "\n",
    "MU_metro_Novehicle = Beta('MU_metro_Novehicle', 1, 1, None, 0)\n",
    "\n",
    "MU_metro_Novehicle_nest = MU_metro_Novehicle, [1,3, 4,5,6]\n",
    "metro_car_nest = 1.0, [2]\n",
    "car_nest = 1.0, [7]\n",
    "\n",
    "\n",
    "\n",
    "nests = car_nest,metro_car_nest,MU_metro_Novehicle_nest\n",
    "\n",
    "logprob = models.lognested (V, None , nests , choice )# 用log likelihood 来标定模型\n",
    "\n",
    "biogeme  = bio.BIOGEME(database, logprob)\n",
    "biogeme.modelName = \"nested_logit_car_metro_car_transit\"\n",
    "\n",
    "biogeme.generateHtml = True\n",
    "biogeme.generatePickle = True\n",
    "\n",
    "results = biogeme.estimate()\n",
    "\n",
    "print(f\"HTML file:    {results.data.htmlFileName}\")\n",
    "print(f\"Pickle file:  {results.data.pickleFileName }\")\n",
    "\n"
   ],
   "metadata": {
    "collapsed": false,
    "ExecuteTime": {
     "end_time": "2023-10-25T16:21:07.258396Z",
     "start_time": "2023-10-25T16:20:59.865669Z"
    }
   },
   "id": "a2d6f589b041401e"
  },
  {
   "cell_type": "markdown",
   "source": [
    "# nested 5"
   ],
   "metadata": {
    "collapsed": false
   },
   "id": "c9dbe7ec07ab16aa"
  },
  {
   "cell_type": "code",
   "execution_count": 85,
   "outputs": [
    {
     "name": "stderr",
     "output_type": "stream",
     "text": [
      "Obsolete syntax. Use generate_html instead of generateHtml\n",
      "Obsolete syntax. Use generate_pickle instead of generatePickle\n"
     ]
    },
    {
     "name": "stdout",
     "output_type": "stream",
     "text": [
      "HTML file:    nested_logit_car_metro_car_walk_bikeebike.html\n",
      "Pickle file:  nested_logit_car_metro_car_walk_bikeebike.pickle\n"
     ]
    }
   ],
   "source": [
    "ASC_bus_metro   = exp.Beta('ASC_bus_metro',0,None ,None ,0)  # 常数，相当于`$\\beta{car}$`\n",
    "ASC_metro_car = exp.Beta('ASC_metro_car',0,None ,None ,0)\n",
    "ASC_bike_metro = exp.Beta('ASC_bike_metro',0,None ,None ,0)\n",
    "ASC_ebike_metro = exp.Beta('ASC_ebike_metro',0,None ,None ,0)\n",
    "ASC_metro = exp.Beta('ASC_metro',0,None ,None ,0)\n",
    "ASC_bus = exp.Beta('ASC_bus',0,None ,None ,0)\n",
    "ASC_car = exp.Beta('ASC_car',0,None ,None ,1)\n",
    "\n",
    "B_TIME_bus_metro    = exp.Beta('B_TIME_bus_metro',0,None ,None ,0)  # bus_metro 出行时长前面的系数\n",
    "B_TIME_metro_car = exp.Beta('B_TIME_metro_car',0,None ,None ,0)  # metro_car 出行时长前面的系数\n",
    "B_TIME_bike_metro = exp.Beta('B_TIME_bike_metro',0,None ,None ,0)  # metro 出行时长前面的系数\n",
    "B_TIME_ebike_metro = exp.Beta('B_TIME_ebike_metro',0,None ,None ,0)  # metro 出行时长前面的系数\n",
    "B_TIME_metro = exp.Beta('B_TIME_metro',0,None ,None ,0)  # metro 出行时长前面的系数\n",
    "B_TIME_bus = exp.Beta('B_TIME_bus',0,None ,None ,0)  # bus 出行时长前面的系数\n",
    "B_TIME_car = exp.Beta('B_TIME_car',0,None ,None ,0)  # car 出行时长前面的系数\n",
    "\n",
    "B_COST_Transit = exp.Beta('B_COST_Transit',0,None ,None ,0)  # 出行费用前面的系数\n",
    "B_COST_car = exp.Beta('B_COST_car',0,None ,None ,0)  # 出行费用前面的系数\n",
    "\n",
    "\n",
    "\n",
    "B_ACTIME_walk = exp.Beta('B_ACTIME_walk',0,None ,None ,0)  # 换乘时间前面的系数\n",
    "B_ACTIME_bike_ebike = exp.Beta('B_ACTIME_bike_ebike',0,None ,None ,0)\n",
    "B_ACTIME_car = exp.Beta('B_ACTIME_car',0,None ,None ,0)\n",
    "\n",
    "\n",
    "B_TRNUMS_metro = exp.Beta('B_TRNUMS_metro',0,None ,None ,0)  # 换乘次数前面的系数\n",
    "# B_TRNUMS_bus = exp.Beta('B_TRNUMS_bus',0,None ,None ,0)  # 换乘次数前面的系数\n",
    "# B_TRNUMS_bus_metro = exp.Beta('B_TRNUMS_bus_metro',0,None ,None ,0)  # 换乘次数前面的系数\n",
    "B_TRNUMS_car = exp.Beta('B_TRNUMS_car',0,None ,None ,1)  # 换乘次数前面的系数\n",
    "\n",
    "MU = Beta('MU_metro', 1, 1, 10, 0)\n",
    "\n",
    "# Definition of the utility functions\n",
    "\n",
    "\n",
    "V1 = ASC_bus_metro + \\\n",
    "     B_TIME_bus_metro * totalduration_bus_metro + \\\n",
    "     B_COST_Transit * totalcost_bus_metro + \\\n",
    "     B_ACTIME_walk * ac_eg_transfer_duration_bus_metro + \\\n",
    "     B_TRNUMS_metro * transfernum_bus_metro\n",
    "\n",
    "V2 = ASC_metro_car + \\\n",
    "     B_TIME_metro_car * totalduration_metro_car + \\\n",
    "     B_COST_Transit * totalcost_metro_car + \\\n",
    "     B_ACTIME_car * ac_eg_transfer_duration_metro_car + \\\n",
    "     B_TRNUMS_metro * transfernum_metro_car\n",
    "V3 = ASC_bike_metro + \\\n",
    "     B_TIME_bike_metro * totalduration_bike_metro + \\\n",
    "     B_COST_Transit * totalcost_bike_metro + \\\n",
    "     B_ACTIME_bike_ebike * ac_eg_transfer_duration_bike_metro + \\\n",
    "     B_TRNUMS_metro * transfernum_bike_metro\n",
    "V4 = ASC_ebike_metro + \\\n",
    "     B_TIME_ebike_metro * totalduration_ebike_metro + \\\n",
    "     B_COST_Transit * totalcost_ebike_metro + \\\n",
    "     B_ACTIME_bike_ebike * ac_eg_transfer_duration_ebike_metro + \\\n",
    "     B_TRNUMS_metro * transfernum_ebike_metro\n",
    "V5 = ASC_metro + \\\n",
    "     B_TIME_metro * totalduration_metro + \\\n",
    "     B_COST_Transit * totalcost_metro + \\\n",
    "     B_ACTIME_walk * ac_eg_transfer_duration_metro + \\\n",
    "     B_TRNUMS_metro * transfernum_metro\n",
    "V6 = ASC_bus + \\\n",
    "     B_TIME_bus * totalduration_bus + \\\n",
    "     B_COST_Transit * totalcost_bus + \\\n",
    "     B_ACTIME_walk * ac_eg_transfer_duration_bus + \\\n",
    "     B_TRNUMS_metro * transfernum_bus\n",
    "V7 = ASC_car + \\\n",
    "     B_TIME_car * totalduration_car + \\\n",
    "     B_COST_car * totalcost_car_new+ \\\n",
    "     B_ACTIME_car * ac_eg_transfer_duration_car + \\\n",
    "     B_TRNUMS_car * transfernum_car\n",
    "\n",
    "\n",
    "V = {1: V1,\n",
    "     2: V2,\n",
    "     3: V3,\n",
    "     4: V4,\n",
    "     5: V5,\n",
    "     6: V6,\n",
    "     7: V7}\n",
    "\n",
    "av = {1: bus_metro_av,\n",
    "      2: metro_car_av,\n",
    "      3: bike_metro_av,\n",
    "      4: ebike_metro_av,\n",
    "      5: metro_av,\n",
    "      6: bus_av,\n",
    "      7: car_av}\n",
    "\n",
    "MU_transit_walk = Beta('MU_transit_walk', 1, 1, None, 0)\n",
    "MU_metro_bike_ebike = Beta('MU_metro_bike_ebike', 1, 1, None, 0)\n",
    "\n",
    "\n",
    "MU_transit_walk_nest = MU_transit_walk, [1,5,6]\n",
    "MU_metro_bike_ebike_nest = MU_metro_bike_ebike, [3, 4]\n",
    "metro_car_nest = 1.0, [2]\n",
    "car_nest = 1.0, [7]\n",
    "\n",
    "\n",
    "\n",
    "nests = car_nest,metro_car_nest,MU_transit_walk_nest,MU_metro_bike_ebike_nest\n",
    "\n",
    "logprob = models.lognested (V, None , nests , choice )# 用log likelihood 来标定模型\n",
    "\n",
    "biogeme  = bio.BIOGEME(database, logprob)\n",
    "biogeme.modelName = \"nested_logit_car_metro_car_walk_bikeebike\"\n",
    "\n",
    "biogeme.generateHtml = True\n",
    "biogeme.generatePickle = True\n",
    "\n",
    "results = biogeme.estimate()\n",
    "\n",
    "print(f\"HTML file:    {results.data.htmlFileName}\")\n",
    "print(f\"Pickle file:  {results.data.pickleFileName }\")\n",
    "\n"
   ],
   "metadata": {
    "collapsed": false,
    "ExecuteTime": {
     "end_time": "2023-10-25T16:29:49.620026Z",
     "start_time": "2023-10-25T16:29:43.216484Z"
    }
   },
   "id": "ed2156426724d74c"
  },
  {
   "cell_type": "code",
   "execution_count": null,
   "outputs": [],
   "source": [
    "prob_bus_metro = models.nested(V, None , nests , 1)\n",
    "prob_metro_car = models.nested(V, None , nests , 2)\n",
    "prob_bike_metro = models.nested(V, None , nests , 3)\n",
    "prob_ebike_metro = models.nested(V, None , nests , 4)\n",
    "prob_metro = models.nested(V, None , nests , 5)\n",
    "prob_bus = models.nested(V, None , nests , 6)\n",
    "prob_car = models.nested(V, None , nests , 7)"
   ],
   "metadata": {
    "collapsed": false
   },
   "id": "cb74ff43f50738a9"
  },
  {
   "cell_type": "code",
   "execution_count": 21,
   "outputs": [
    {
     "name": "stderr",
     "output_type": "stream",
     "text": [
      "The syntax \"freeBetaNames\" is deprecated and is replaced by the syntax \"free_beta_names\".\n"
     ]
    },
    {
     "name": "stdout",
     "output_type": "stream",
     "text": [
      "Extracting the following variables:\n",
      "\t ASC_bike_metro\n",
      "\t ASC_bus\n",
      "\t ASC_bus_metro\n",
      "\t ASC_ebike_metro\n",
      "\t ASC_metro\n",
      "\t ASC_metro_car\n",
      "\t B_ACTIME_bike_ebike\n",
      "\t B_ACTIME_car\n",
      "\t B_ACTIME_walk\n",
      "\t B_COST_Transit\n",
      "\t B_COST_car\n",
      "\t B_TIME_bike_metro\n",
      "\t B_TIME_bus\n",
      "\t B_TIME_bus_metro\n",
      "\t B_TIME_car\n",
      "\t B_TIME_ebike_metro\n",
      "\t B_TIME_metro\n",
      "\t B_TIME_metro_car\n",
      "\t B_TRNUMS_metro\n",
      "\t MU_metro_bike_ebike\n",
      "\t MU_metro_walk\n"
     ]
    }
   ],
   "source": [
    "import biogeme.results as res\n",
    "simulate ={'Prob. bus_metro':  prob_bus_metro ,\n",
    "              'Prob. metro_car': prob_metro_car ,\n",
    "                'Prob. bike_metro': prob_bike_metro ,\n",
    "                'Prob. ebike_metro': prob_ebike_metro ,\n",
    "                'Prob. metro': prob_metro ,\n",
    "                'Prob. bus': prob_bus ,\n",
    "                'Prob. car': prob_car}\n",
    "\n",
    "biogeme = bio.BIOGEME(database, simulate)\n",
    "biogeme.modelName = \"nested_logit_metro_walk_ebikebike_car\"\n",
    "betas = biogeme.free_beta_names()\n",
    "\n",
    "print('Extracting the following variables:')\n",
    "for k in betas:\n",
    "    print('\\t',k)\n",
    "\n",
    "results = res.bioResults(pickleFile='nested_logit_metro_walk_ebikebike_car.pickle')\n",
    "betaValues = results.getBetaValues ()"
   ],
   "metadata": {
    "collapsed": false,
    "ExecuteTime": {
     "end_time": "2023-10-25T13:05:58.856560Z",
     "start_time": "2023-10-25T13:05:58.208683Z"
    }
   },
   "id": "1d3641d573b94ce6"
  },
  {
   "cell_type": "code",
   "execution_count": 22,
   "outputs": [],
   "source": [
    "simulatedValues = biogeme.simulate(betaValues)"
   ],
   "metadata": {
    "collapsed": false,
    "ExecuteTime": {
     "end_time": "2023-10-25T13:06:30.426373Z",
     "start_time": "2023-10-25T13:06:29.783127Z"
    }
   },
   "id": "90622c311507f9f3"
  },
  {
   "cell_type": "code",
   "execution_count": 24,
   "outputs": [],
   "source": [
    "b = results.getBetasForSensitivityAnalysis(betas , size=100,useBootstrap=False)\n",
    "\n",
    "left, right = biogeme.confidenceIntervals(b, .9)"
   ],
   "metadata": {
    "collapsed": false,
    "ExecuteTime": {
     "end_time": "2023-10-25T13:08:11.567851Z",
     "start_time": "2023-10-25T13:07:18.100416Z"
    }
   },
   "id": "624818e55c5a365f"
  },
  {
   "cell_type": "code",
   "execution_count": 26,
   "outputs": [
    {
     "data": {
      "text/plain": "Index(['Prob. bus_metro', 'Prob. metro_car', 'Prob. bike_metro',\n       'Prob. ebike_metro', 'Prob. metro', 'Prob. bus', 'Prob. car'],\n      dtype='object')"
     },
     "execution_count": 26,
     "metadata": {},
     "output_type": "execute_result"
    }
   ],
   "source": [
    "simulatedValues.columns"
   ],
   "metadata": {
    "collapsed": false,
    "ExecuteTime": {
     "end_time": "2023-10-25T13:09:27.820161Z",
     "start_time": "2023-10-25T13:09:27.807630Z"
    }
   },
   "id": "3a01882f1e67e7bd"
  },
  {
   "cell_type": "code",
   "execution_count": 28,
   "outputs": [
    {
     "name": "stdout",
     "output_type": "stream",
     "text": [
      "market share bus_metro: 11.397 [9.171, 13.683]\n",
      "market share metro_car: 1.808 [1.061, 3.164]\n",
      "market share bike_metro: 3.420 [2.171, 4.958]\n",
      "market share ebike_metro: 3.100 [2.070, 4.670]\n",
      "market share metro: 19.945 [17.027, 23.283]\n",
      "market share bus: 6.740 [4.958, 9.325]\n",
      "market share car: 53.589 [48.467, 57.564]\n"
     ]
    }
   ],
   "source": [
    "marketShare_bus_metro = simulatedValues['Prob. bus_metro'].mean()\n",
    "marketShare_bus_metro_left = left['Prob. bus_metro'].mean()\n",
    "marketShare_bus_metro_right = right['Prob. bus_metro'].mean()\n",
    "\n",
    "marketShare_metro_car = simulatedValues['Prob. metro_car'].mean()\n",
    "marketShare_metro_car_left = left['Prob. metro_car'].mean()\n",
    "marketShare_metro_car_right = right['Prob. metro_car'].mean()\n",
    "\n",
    "marketShare_bike_metro = simulatedValues['Prob. bike_metro'].mean()\n",
    "marketShare_bike_metro_left = left['Prob. bike_metro'].mean()\n",
    "marketShare_bike_metro_right = right['Prob. bike_metro'].mean()\n",
    "\n",
    "marketShare_ebike_metro = simulatedValues['Prob. ebike_metro'].mean()\n",
    "marketShare_ebike_metro_left = left['Prob. ebike_metro'].mean()\n",
    "marketShare_ebike_metro_right = right['Prob. ebike_metro'].mean()\n",
    "\n",
    "marketShare_metro = simulatedValues['Prob. metro'].mean()\n",
    "marketShare_metro_left = left['Prob. metro'].mean()\n",
    "marketShare_metro_right = right['Prob. metro'].mean()\n",
    "\n",
    "marketShare_bus = simulatedValues['Prob. bus'].mean()\n",
    "marketShare_bus_left = left['Prob. bus'].mean()\n",
    "marketShare_bus_right = right['Prob. bus'].mean()\n",
    "\n",
    "marketShare_car = simulatedValues['Prob. car'].mean()\n",
    "marketShare_car_left = left['Prob. car'].mean()\n",
    "marketShare_car_right = right['Prob. car'].mean()\n",
    "\n",
    "# print market shares unit in percentage\n",
    "\n",
    "print(f\"market share bus_metro: {100*marketShare_bus_metro:.3f} [{100*marketShare_bus_metro_left:.3f}, {100*marketShare_bus_metro_right:.3f}]\")\n",
    "print(f\"market share metro_car: {100*marketShare_metro_car:.3f} [{100*marketShare_metro_car_left:.3f}, {100*marketShare_metro_car_right:.3f}]\")\n",
    "print(f\"market share bike_metro: {100*marketShare_bike_metro:.3f} [{100*marketShare_bike_metro_left:.3f}, {100*marketShare_bike_metro_right:.3f}]\")\n",
    "print(f\"market share ebike_metro: {100*marketShare_ebike_metro:.3f} [{100*marketShare_ebike_metro_left:.3f}, {100*marketShare_ebike_metro_right:.3f}]\")\n",
    "print(f\"market share metro: {100*marketShare_metro:.3f} [{100*marketShare_metro_left:.3f}, {100*marketShare_metro_right:.3f}]\")\n",
    "print(f\"market share bus: {100*marketShare_bus:.3f} [{100*marketShare_bus_left:.3f}, {100*marketShare_bus_right:.3f}]\")\n",
    "print(f\"market share car: {100*marketShare_car:.3f} [{100*marketShare_car_left:.3f}, {100*marketShare_car_right:.3f}]\")\n",
    "\n",
    "\n",
    "    \n"
   ],
   "metadata": {
    "collapsed": false,
    "ExecuteTime": {
     "end_time": "2023-10-25T13:12:28.902352Z",
     "start_time": "2023-10-25T13:12:28.894221Z"
    }
   },
   "id": "45003657cb975668"
  },
  {
   "cell_type": "code",
   "execution_count": 31,
   "outputs": [
    {
     "data": {
      "text/plain": "choice\n7    0.535890\n5    0.199452\n1    0.113973\n6    0.067397\n3    0.036164\n4    0.029041\n2    0.018082\nName: proportion, dtype: float64"
     },
     "execution_count": 31,
     "metadata": {},
     "output_type": "execute_result"
    }
   ],
   "source": [
    "intermodal_data['choice'].value_counts(normalize=True)"
   ],
   "metadata": {
    "collapsed": false,
    "ExecuteTime": {
     "end_time": "2023-10-25T13:14:33.585909Z",
     "start_time": "2023-10-25T13:14:33.576094Z"
    }
   },
   "id": "7f8550e71738e84d"
  },
  {
   "cell_type": "code",
   "execution_count": 45,
   "outputs": [
    {
     "data": {
      "text/plain": "      index  totalduration_bus_metro  totalduration_metro  \\\n0        22                      111                  121   \n1        47                      110                  131   \n2        63                      109                  102   \n3        67                      104                  124   \n4        81                       94                   93   \n...     ...                      ...                  ...   \n1820  43138                       56                   57   \n1821  43139                       61                   51   \n1822  43141                      101                   91   \n1823  43143                       52                   68   \n1824  43163                      100                  117   \n\n      totalduration_bike_metro  totalduration_car  totalduration_ebike_metro  \\\n0                           98                 40                         94   \n1                           93                 35                         76   \n2                           85                 34                         85   \n3                          108                 30                        108   \n4                           82                 34                         82   \n...                        ...                ...                        ...   \n1820                        36                 24                         36   \n1821                        36                 21                         36   \n1822                        74                 36                         74   \n1823                        53                 13                         53   \n1824                        90                 24                         67   \n\n      totalduration_metro_car  totalduration_bus  totaldistance_bus_metro  \\\n0                          81                167                    47696   \n1                          76                130                    34362   \n2                          67                129                    35523   \n3                          32                107                    37610   \n4                          47                165                    33442   \n...                       ...                ...                      ...   \n1820                       25                 57                     9695   \n1821                       33                 60                     8411   \n1822                       71                173                    29407   \n1823                       47                 36                    10915   \n1824                       68                 70                    17791   \n\n      totaldistance_metro  ...  car_engine_type  departure  purpose  choice  \\\n0                   45226  ...                0          1        1       7   \n1                   32086  ...                0          1        0       6   \n2                   43068  ...                1          0        1       7   \n3                   58550  ...                0          1        1       7   \n4                   42466  ...                1          1        1       7   \n...                   ...  ...              ...        ...      ...     ...   \n1820                 8658  ...                1          1        0       7   \n1821                 8952  ...                1          1        1       7   \n1822                29598  ...                0          0        1       5   \n1823                17168  ...                0          1        1       6   \n1824                16105  ...                1          1        1       7   \n\n      bus_metro_av  metro_car_av  bike_metro_av  ebike_metro_av  metro_av  \\\n0                1             1              1               0         1   \n1                1             1              1               0         1   \n2                1             1              1               0         1   \n3                1             1              1               1         1   \n4                1             1              1               1         1   \n...            ...           ...            ...             ...       ...   \n1820             1             1              1               0         1   \n1821             1             1              1               0         1   \n1822             1             1              1               1         1   \n1823             1             1              1               1         1   \n1824             1             1              1               1         1   \n\n      bus_av  \n0          1  \n1          1  \n2          1  \n3          1  \n4          1  \n...      ...  \n1820       1  \n1821       1  \n1822       1  \n1823       1  \n1824       1  \n\n[1825 rows x 63 columns]",
      "text/html": "<div>\n<style scoped>\n    .dataframe tbody tr th:only-of-type {\n        vertical-align: middle;\n    }\n\n    .dataframe tbody tr th {\n        vertical-align: top;\n    }\n\n    .dataframe thead th {\n        text-align: right;\n    }\n</style>\n<table border=\"1\" class=\"dataframe\">\n  <thead>\n    <tr style=\"text-align: right;\">\n      <th></th>\n      <th>index</th>\n      <th>totalduration_bus_metro</th>\n      <th>totalduration_metro</th>\n      <th>totalduration_bike_metro</th>\n      <th>totalduration_car</th>\n      <th>totalduration_ebike_metro</th>\n      <th>totalduration_metro_car</th>\n      <th>totalduration_bus</th>\n      <th>totaldistance_bus_metro</th>\n      <th>totaldistance_metro</th>\n      <th>...</th>\n      <th>car_engine_type</th>\n      <th>departure</th>\n      <th>purpose</th>\n      <th>choice</th>\n      <th>bus_metro_av</th>\n      <th>metro_car_av</th>\n      <th>bike_metro_av</th>\n      <th>ebike_metro_av</th>\n      <th>metro_av</th>\n      <th>bus_av</th>\n    </tr>\n  </thead>\n  <tbody>\n    <tr>\n      <th>0</th>\n      <td>22</td>\n      <td>111</td>\n      <td>121</td>\n      <td>98</td>\n      <td>40</td>\n      <td>94</td>\n      <td>81</td>\n      <td>167</td>\n      <td>47696</td>\n      <td>45226</td>\n      <td>...</td>\n      <td>0</td>\n      <td>1</td>\n      <td>1</td>\n      <td>7</td>\n      <td>1</td>\n      <td>1</td>\n      <td>1</td>\n      <td>0</td>\n      <td>1</td>\n      <td>1</td>\n    </tr>\n    <tr>\n      <th>1</th>\n      <td>47</td>\n      <td>110</td>\n      <td>131</td>\n      <td>93</td>\n      <td>35</td>\n      <td>76</td>\n      <td>76</td>\n      <td>130</td>\n      <td>34362</td>\n      <td>32086</td>\n      <td>...</td>\n      <td>0</td>\n      <td>1</td>\n      <td>0</td>\n      <td>6</td>\n      <td>1</td>\n      <td>1</td>\n      <td>1</td>\n      <td>0</td>\n      <td>1</td>\n      <td>1</td>\n    </tr>\n    <tr>\n      <th>2</th>\n      <td>63</td>\n      <td>109</td>\n      <td>102</td>\n      <td>85</td>\n      <td>34</td>\n      <td>85</td>\n      <td>67</td>\n      <td>129</td>\n      <td>35523</td>\n      <td>43068</td>\n      <td>...</td>\n      <td>1</td>\n      <td>0</td>\n      <td>1</td>\n      <td>7</td>\n      <td>1</td>\n      <td>1</td>\n      <td>1</td>\n      <td>0</td>\n      <td>1</td>\n      <td>1</td>\n    </tr>\n    <tr>\n      <th>3</th>\n      <td>67</td>\n      <td>104</td>\n      <td>124</td>\n      <td>108</td>\n      <td>30</td>\n      <td>108</td>\n      <td>32</td>\n      <td>107</td>\n      <td>37610</td>\n      <td>58550</td>\n      <td>...</td>\n      <td>0</td>\n      <td>1</td>\n      <td>1</td>\n      <td>7</td>\n      <td>1</td>\n      <td>1</td>\n      <td>1</td>\n      <td>1</td>\n      <td>1</td>\n      <td>1</td>\n    </tr>\n    <tr>\n      <th>4</th>\n      <td>81</td>\n      <td>94</td>\n      <td>93</td>\n      <td>82</td>\n      <td>34</td>\n      <td>82</td>\n      <td>47</td>\n      <td>165</td>\n      <td>33442</td>\n      <td>42466</td>\n      <td>...</td>\n      <td>1</td>\n      <td>1</td>\n      <td>1</td>\n      <td>7</td>\n      <td>1</td>\n      <td>1</td>\n      <td>1</td>\n      <td>1</td>\n      <td>1</td>\n      <td>1</td>\n    </tr>\n    <tr>\n      <th>...</th>\n      <td>...</td>\n      <td>...</td>\n      <td>...</td>\n      <td>...</td>\n      <td>...</td>\n      <td>...</td>\n      <td>...</td>\n      <td>...</td>\n      <td>...</td>\n      <td>...</td>\n      <td>...</td>\n      <td>...</td>\n      <td>...</td>\n      <td>...</td>\n      <td>...</td>\n      <td>...</td>\n      <td>...</td>\n      <td>...</td>\n      <td>...</td>\n      <td>...</td>\n      <td>...</td>\n    </tr>\n    <tr>\n      <th>1820</th>\n      <td>43138</td>\n      <td>56</td>\n      <td>57</td>\n      <td>36</td>\n      <td>24</td>\n      <td>36</td>\n      <td>25</td>\n      <td>57</td>\n      <td>9695</td>\n      <td>8658</td>\n      <td>...</td>\n      <td>1</td>\n      <td>1</td>\n      <td>0</td>\n      <td>7</td>\n      <td>1</td>\n      <td>1</td>\n      <td>1</td>\n      <td>0</td>\n      <td>1</td>\n      <td>1</td>\n    </tr>\n    <tr>\n      <th>1821</th>\n      <td>43139</td>\n      <td>61</td>\n      <td>51</td>\n      <td>36</td>\n      <td>21</td>\n      <td>36</td>\n      <td>33</td>\n      <td>60</td>\n      <td>8411</td>\n      <td>8952</td>\n      <td>...</td>\n      <td>1</td>\n      <td>1</td>\n      <td>1</td>\n      <td>7</td>\n      <td>1</td>\n      <td>1</td>\n      <td>1</td>\n      <td>0</td>\n      <td>1</td>\n      <td>1</td>\n    </tr>\n    <tr>\n      <th>1822</th>\n      <td>43141</td>\n      <td>101</td>\n      <td>91</td>\n      <td>74</td>\n      <td>36</td>\n      <td>74</td>\n      <td>71</td>\n      <td>173</td>\n      <td>29407</td>\n      <td>29598</td>\n      <td>...</td>\n      <td>0</td>\n      <td>0</td>\n      <td>1</td>\n      <td>5</td>\n      <td>1</td>\n      <td>1</td>\n      <td>1</td>\n      <td>1</td>\n      <td>1</td>\n      <td>1</td>\n    </tr>\n    <tr>\n      <th>1823</th>\n      <td>43143</td>\n      <td>52</td>\n      <td>68</td>\n      <td>53</td>\n      <td>13</td>\n      <td>53</td>\n      <td>47</td>\n      <td>36</td>\n      <td>10915</td>\n      <td>17168</td>\n      <td>...</td>\n      <td>0</td>\n      <td>1</td>\n      <td>1</td>\n      <td>6</td>\n      <td>1</td>\n      <td>1</td>\n      <td>1</td>\n      <td>1</td>\n      <td>1</td>\n      <td>1</td>\n    </tr>\n    <tr>\n      <th>1824</th>\n      <td>43163</td>\n      <td>100</td>\n      <td>117</td>\n      <td>90</td>\n      <td>24</td>\n      <td>67</td>\n      <td>68</td>\n      <td>70</td>\n      <td>17791</td>\n      <td>16105</td>\n      <td>...</td>\n      <td>1</td>\n      <td>1</td>\n      <td>1</td>\n      <td>7</td>\n      <td>1</td>\n      <td>1</td>\n      <td>1</td>\n      <td>1</td>\n      <td>1</td>\n      <td>1</td>\n    </tr>\n  </tbody>\n</table>\n<p>1825 rows × 63 columns</p>\n</div>"
     },
     "execution_count": 45,
     "metadata": {},
     "output_type": "execute_result"
    }
   ],
   "source": [
    "intermodal_data"
   ],
   "metadata": {
    "collapsed": false,
    "ExecuteTime": {
     "end_time": "2023-10-25T13:27:56.359327Z",
     "start_time": "2023-10-25T13:27:56.336911Z"
    }
   },
   "id": "5a5ba10479cdaf68"
  },
  {
   "cell_type": "code",
   "execution_count": 40,
   "outputs": [],
   "source": [
    "temp = intermodal_data['totaldistance_car']/intermodal_data['totalcost_car']"
   ],
   "metadata": {
    "collapsed": false,
    "ExecuteTime": {
     "end_time": "2023-10-25T13:26:35.338634Z",
     "start_time": "2023-10-25T13:26:35.326750Z"
    }
   },
   "id": "eeceaff074389d2a"
  },
  {
   "cell_type": "code",
   "execution_count": 44,
   "outputs": [],
   "source": [
    "temp.to_clipboard()"
   ],
   "metadata": {
    "collapsed": false,
    "ExecuteTime": {
     "end_time": "2023-10-25T13:27:20.809477Z",
     "start_time": "2023-10-25T13:27:20.566285Z"
    }
   },
   "id": "2aa6a9fd5714fd74"
  },
  {
   "cell_type": "code",
   "execution_count": null,
   "outputs": [],
   "source": [
    "(0.4*1.09+0.6*2)"
   ],
   "metadata": {
    "collapsed": false,
    "ExecuteTime": {
     "end_time": "2023-10-25T13:45:29.485830Z",
     "start_time": "2023-10-25T13:45:29.483767Z"
    }
   },
   "id": "e7d6887a83583508"
  },
  {
   "cell_type": "markdown",
   "source": [
    "# cross nested\n"
   ],
   "metadata": {
    "collapsed": false
   },
   "id": "d055e4e04d36331a"
  },
  {
   "cell_type": "code",
   "execution_count": 20,
   "outputs": [],
   "source": [
    "## duration-based"
   ],
   "metadata": {
    "collapsed": false,
    "ExecuteTime": {
     "end_time": "2023-11-02T06:12:46.094701Z",
     "start_time": "2023-11-02T06:12:46.086818Z"
    }
   },
   "id": "20effa1a88c071b3"
  },
  {
   "cell_type": "code",
   "execution_count": 19,
   "outputs": [
    {
     "name": "stderr",
     "output_type": "stream",
     "text": [
      "Obsolete syntax. Use generate_html instead of generateHtml\n",
      "Obsolete syntax. Use generate_pickle instead of generatePickle\n"
     ]
    },
    {
     "name": "stdout",
     "output_type": "stream",
     "text": [
      "HTML file:    cross_nested_logit_single_inter.html\n",
      "Pickle file:  cross_nested_logit_single_inter.pickle\n"
     ]
    }
   ],
   "source": [
    "ASC_bus_metro   = exp.Beta('ASC_bus_metro',0,None ,None ,0)  # 常数，相当于`$\\beta{car}$`\n",
    "ASC_metro_car = exp.Beta('ASC_metro_car',0,None ,None ,0)\n",
    "ASC_bike_metro = exp.Beta('ASC_bike_metro',0,None ,None ,0)\n",
    "ASC_ebike_metro = exp.Beta('ASC_ebike_metro',0,None ,None ,0)\n",
    "ASC_metro = exp.Beta('ASC_metro',0,None ,None ,0)\n",
    "ASC_bus = exp.Beta('ASC_bus',0,None ,None ,0)\n",
    "ASC_car = exp.Beta('ASC_car',0,None ,None ,1)\n",
    "\n",
    "B_TIME_bus_metro    = exp.Beta('B_TIME_bus_metro',0,None ,None ,0)  # bus_metro 出行时长前面的系数\n",
    "B_TIME_metro_car = exp.Beta('B_TIME_metro_car',0,None ,None ,0)  # metro_car 出行时长前面的系数\n",
    "B_TIME_bike_metro = exp.Beta('B_TIME_bike_metro',0,None ,None ,0)  # metro 出行时长前面的系数\n",
    "B_TIME_ebike_metro = exp.Beta('B_TIME_ebike_metro',0,None ,None ,0)  # metro 出行时长前面的系数\n",
    "B_TIME_metro = exp.Beta('B_TIME_metro',0,None ,None ,0)  # metro 出行时长前面的系数\n",
    "B_TIME_bus = exp.Beta('B_TIME_bus',0,None ,None ,0)  # bus 出行时长前面的系数\n",
    "B_TIME_car = exp.Beta('B_TIME_car',0,None ,None ,0)  # car 出行时长前面的系数\n",
    "\n",
    "B_COST_Transit = exp.Beta('B_COST_Transit',0,None ,None ,0)  # 出行费用前面的系数\n",
    "B_COST_car = exp.Beta('B_COST_car',0,None ,None ,0)  # 出行费用前面的系数\n",
    "\n",
    "\n",
    "\n",
    "B_ACTIME_walk = exp.Beta('B_ACTIME_walk',0,None ,None ,0)  # 换乘时间前面的系数\n",
    "B_ACTIME_bike_ebike = exp.Beta('B_ACTIME_bike_ebike',0,None ,None ,0)\n",
    "B_ACTIME_car = exp.Beta('B_ACTIME_car',0,None ,None ,0)\n",
    "\n",
    "\n",
    "B_TRNUMS_metro = exp.Beta('B_TRNUMS_metro',0,None ,None ,0)  # 换乘次数前面的系数\n",
    "# B_TRNUMS_bus = exp.Beta('B_TRNUMS_bus',0,None ,None ,0)  # 换乘次数前面的系数\n",
    "# B_TRNUMS_bus_metro = exp.Beta('B_TRNUMS_bus_metro',0,None ,None ,0)  # 换乘次数前面的系数\n",
    "B_TRNUMS_car = exp.Beta('B_TRNUMS_car',0,None ,None ,1)  # 换乘次数前面的系数\n",
    "\n",
    "\n",
    "# Definition of the utility functions\n",
    "\n",
    "\n",
    "V1 = ASC_bus_metro + \\\n",
    "     B_TIME_bus_metro * totalduration_bus_metro + \\\n",
    "     B_COST_Transit * totalcost_bus_metro + \\\n",
    "     B_ACTIME_walk * ac_eg_transfer_duration_bus_metro + \\\n",
    "     B_TRNUMS_metro * transfernum_bus_metro\n",
    "\n",
    "V2 = ASC_metro_car + \\\n",
    "     B_TIME_metro_car * totalduration_metro_car + \\\n",
    "     B_COST_Transit * totalcost_metro_car + \\\n",
    "     B_ACTIME_car * ac_eg_transfer_duration_metro_car + \\\n",
    "     B_TRNUMS_metro * transfernum_metro_car\n",
    "V3 = ASC_bike_metro + \\\n",
    "     B_TIME_bike_metro * totalduration_bike_metro + \\\n",
    "     B_COST_Transit * totalcost_bike_metro + \\\n",
    "     B_ACTIME_bike_ebike * ac_eg_transfer_duration_bike_metro + \\\n",
    "     B_TRNUMS_metro * transfernum_bike_metro\n",
    "V4 = ASC_ebike_metro + \\\n",
    "     B_TIME_ebike_metro * totalduration_ebike_metro + \\\n",
    "     B_COST_Transit * totalcost_ebike_metro + \\\n",
    "     B_ACTIME_bike_ebike * ac_eg_transfer_duration_ebike_metro + \\\n",
    "     B_TRNUMS_metro * transfernum_ebike_metro\n",
    "V5 = ASC_metro + \\\n",
    "     B_TIME_metro * totalduration_metro + \\\n",
    "     B_COST_Transit * totalcost_metro + \\\n",
    "     B_ACTIME_walk * ac_eg_transfer_duration_metro + \\\n",
    "     B_TRNUMS_metro * transfernum_metro\n",
    "V6 = ASC_bus + \\\n",
    "     B_TIME_bus * totalduration_bus + \\\n",
    "     B_COST_Transit * totalcost_bus + \\\n",
    "     B_ACTIME_walk * ac_eg_transfer_duration_bus + \\\n",
    "     B_TRNUMS_metro * transfernum_bus\n",
    "V7 = ASC_car + \\\n",
    "     B_TIME_car * totalduration_car + \\\n",
    "     B_COST_car * totalcost_car_new+ \\\n",
    "     B_ACTIME_car * ac_eg_transfer_duration_car + \\\n",
    "     B_TRNUMS_car * transfernum_car\n",
    "\n",
    "\n",
    "V = {1: V1,\n",
    "     2: V2,\n",
    "     3: V3,\n",
    "     4: V4,\n",
    "     5: V5,\n",
    "     6: V6,\n",
    "     7: V7}\n",
    "\n",
    "av = {1: bus_metro_av,\n",
    "      2: metro_car_av,\n",
    "      3: bike_metro_av,\n",
    "      4: ebike_metro_av,\n",
    "      5: metro_av,\n",
    "      6: bus_av,\n",
    "      7: car_av}\n",
    "\n",
    "MU_single = Beta('MU_single', 1, 1, None, 0)\n",
    "MU_intermodal = Beta('MU_intermodal', 1, 1, None, 0)\n",
    "ALPHA_single = Beta('ALPHA_single', 0.5, 0, 1, 0)\n",
    "ALPHA_intermodal = 1 - ALPHA_single\n",
    "\n",
    "\n",
    "\n",
    "\n",
    "alpha_single = {1: 0.0, 2: 0.0, 3: 0.0,4: 0.0, 5: ALPHA_single,6: ALPHA_single,7: 1.0}\n",
    "\n",
    "alpha_intermodal = {1: 1.0, 2: 1.0, 3: 1.0, 4: 1.0, 5: ALPHA_intermodal,6: ALPHA_intermodal,7: 0.0}\n",
    "\n",
    "nest_single = MU_single, alpha_single\n",
    "nest_public = MU_intermodal, alpha_intermodal\n",
    "nests = nest_single, nest_public\n",
    "\n",
    "\n",
    "\n",
    "logprob = models.logcnl_avail (V, None , nests , choice )# 用log likelihood 来标定模型\n",
    "\n",
    "biogeme  = bio.BIOGEME(database, logprob)\n",
    "biogeme.modelName = \"cross_nested_logit_single_inter\"\n",
    "\n",
    "biogeme.generateHtml = True\n",
    "biogeme.generatePickle = True\n",
    "\n",
    "results = biogeme.estimate()\n",
    "\n",
    "print(f\"HTML file:    {results.data.htmlFileName}\")\n",
    "print(f\"Pickle file:  {results.data.pickleFileName }\")\n",
    "\n"
   ],
   "metadata": {
    "collapsed": false,
    "ExecuteTime": {
     "end_time": "2023-11-02T05:48:52.100967Z",
     "start_time": "2023-11-02T05:45:54.354744Z"
    }
   },
   "id": "7d786e8afcb1b9e9"
  },
  {
   "cell_type": "markdown",
   "source": [
    "## distance-based"
   ],
   "metadata": {
    "collapsed": false
   },
   "id": "9ab833e64406194e"
  },
  {
   "cell_type": "code",
   "execution_count": 21,
   "outputs": [
    {
     "name": "stderr",
     "output_type": "stream",
     "text": [
      "Obsolete syntax. Use generate_html instead of generateHtml\n",
      "Obsolete syntax. Use generate_pickle instead of generatePickle\n"
     ]
    },
    {
     "name": "stdout",
     "output_type": "stream",
     "text": [
      "HTML file:    cross_nested_logit_single_inter_distance_based.html\n",
      "Pickle file:  cross_nested_logit_single_inter_distance_based.pickle\n"
     ]
    }
   ],
   "source": [
    "ASC_bus_metro   = exp.Beta('ASC_bus_metro',0,None ,None ,0)  # 常数，相当于`$\\beta{car}$`\n",
    "ASC_metro_car = exp.Beta('ASC_metro_car',0,None ,None ,0)\n",
    "ASC_bike_metro = exp.Beta('ASC_bike_metro',0,None ,None ,0)\n",
    "ASC_ebike_metro = exp.Beta('ASC_ebike_metro',0,None ,None ,0)\n",
    "ASC_metro = exp.Beta('ASC_metro',0,None ,None ,0)\n",
    "ASC_bus = exp.Beta('ASC_bus',0,None ,None ,0)\n",
    "ASC_car = exp.Beta('ASC_car',0,None ,None ,1)\n",
    "\n",
    "B_Distance_bus_metro = exp.Beta('B_Distance_bus_metro',0,None ,None ,0)\n",
    "B_Distance_metro_car = exp.Beta('B_Distance_metro_car',0,None ,None ,0)  # metro_car 出行时长前面的系数\n",
    "B_Distance_metro_bike = exp.Beta('B_Distance_metro_bike',0,None ,None ,0)\n",
    "B_Distance_metro_ebike = exp.Beta('B_Distance_metro_ebike',0,None ,None ,0)\n",
    "B_Distance_metro = exp.Beta('B_Distance_metro_ebike',0,None ,None ,0)\n",
    "B_Distance_bus = exp.Beta('B_Distance_bus',0,None ,None ,0)  # bus 出行时长前面的系数\n",
    "B_Distance_car = exp.Beta('B_Distance_car',0,None ,None ,0)  # car 出行时长前面的系数\n",
    "\n",
    "B_COST_Transit = exp.Beta('B_COST_Transit',0,None ,None ,0)  # 出行费用前面的系数\n",
    "B_COST_car = exp.Beta('B_COST_car',0,None ,None ,0)  # 出行费用前面的系数\n",
    "\n",
    "\n",
    "\n",
    "B_ACDistance_walk = exp.Beta('B_ACDistance_walk',0,None ,None ,0)  # 换乘时间前面的系数\n",
    "B_ACDistance_bike_ebike = exp.Beta('B_ACDistance_bike_ebike',0,None ,None ,0)\n",
    "B_ACDistance_car = exp.Beta('B_ACDistance_car',0,None ,None ,0)\n",
    "# B_ACDistance = exp.Beta('B_ACDistance',0,None ,None ,0)\n",
    "\n",
    "\n",
    "# B_TRNUMS_metro = exp.Beta('B_TRNUMS_metro',0,None ,None ,0)  # 换乘次数前面的系数\n",
    "# B_TRNUMS_bus = exp.Beta('B_TRNUMS_bus',0,None ,None ,0)  # 换乘次数前面的系数\n",
    "# # B_TRNUMS_bus_metro = exp.Beta('B_TRNUMS_bus_metro',0,None ,None ,0)  # 换乘次数前面的系数\n",
    "# B_TRNUMS_car = exp.Beta('B_TRNUMS_car',0,None ,None ,1)  # 换乘次数前面的系数\n",
    "B_TRNUMS= exp.Beta('B_TRNUMS',0,None ,None ,0)\n",
    "\n",
    "\n",
    "V1 = ASC_bus_metro + \\\n",
    "     B_Distance_bus_metro * totaldistance_bus_metro + \\\n",
    "     B_COST_Transit * totalcost_bus_metro + \\\n",
    "     B_ACDistance_walk * ac_eg_transfer_distance_bus_metro + \\\n",
    "     B_TRNUMS * transfernum_bus_metro\n",
    "\n",
    "V2 = ASC_metro_car + \\\n",
    "     B_Distance_metro_car * totaldistance_metro_car + \\\n",
    "     B_COST_Transit * totalcost_metro_car_new + \\\n",
    "     B_ACDistance_car * ac_eg_transfer_distance_metro_car + \\\n",
    "     B_TRNUMS * transfernum_metro_car\n",
    "V3 = ASC_bike_metro + \\\n",
    "     B_Distance_metro_bike * totaldistance_bike_metro + \\\n",
    "     B_COST_Transit * totalcost_bike_metro + \\\n",
    "     B_ACDistance_bike_ebike * ac_eg_transfer_distance_bike_metro + \\\n",
    "     B_TRNUMS * transfernum_bike_metro\n",
    "\n",
    "V4 = ASC_ebike_metro + \\\n",
    "     B_Distance_metro_ebike * totaldistance_ebike_metro + \\\n",
    "     B_COST_Transit * totalcost_ebike_metro + \\\n",
    "     B_ACDistance_bike_ebike * ac_eg_transfer_distance_ebike_metro + \\\n",
    "     B_TRNUMS * transfernum_ebike_metro\n",
    "V5 = ASC_metro + \\\n",
    "     B_Distance_metro * totaldistance_metro + \\\n",
    "     B_COST_Transit * totalcost_metro + \\\n",
    "     B_ACDistance_walk * ac_eg_transfer_distance_metro + \\\n",
    "     B_TRNUMS * transfernum_metro\n",
    "V6 = ASC_bus + \\\n",
    "     B_Distance_bus * totaldistance_bus + \\\n",
    "     B_COST_Transit * totalcost_bus + \\\n",
    "     B_ACDistance_walk * ac_eg_transfer_distance_bus + \\\n",
    "     B_TRNUMS * transfernum_bus\n",
    "V7 = ASC_car + \\\n",
    "     B_Distance_car * totaldistance_car + \\\n",
    "     B_COST_car * totalcost_car\n",
    "\n",
    "\n",
    "V = {1: V1,\n",
    "     2: V2,\n",
    "     3: V3,\n",
    "     4: V4,\n",
    "     5: V5,\n",
    "     6: V6,\n",
    "     7: V7}\n",
    "\n",
    "av = {1: bus_metro_av,\n",
    "      2: metro_car_av,\n",
    "      3: bike_metro_av,\n",
    "      4: ebike_metro_av,\n",
    "      5: metro_av,\n",
    "      6: bus_av,\n",
    "      7: car_av}\n",
    "\n",
    "\n",
    "\n",
    "MU_single = Beta('MU_single', 1, 1, None, 0)\n",
    "MU_intermodal = Beta('MU_intermodal', 1, 1, None, 0)\n",
    "ALPHA_single = Beta('ALPHA_single', 0.5, 0, 1, 0)\n",
    "ALPHA_intermodal = 1 - ALPHA_single\n",
    "\n",
    "\n",
    "alpha_single = {1: 0.0, 2: 0.0, 3: 0.0,4: 0.0, 5: ALPHA_single,6: ALPHA_single,7: 1.0}\n",
    "\n",
    "alpha_intermodal = {1: 1.0, 2: 1.0, 3: 1.0, 4: 1.0, 5: ALPHA_intermodal,6: ALPHA_intermodal,7: 0.0}\n",
    "\n",
    "nest_single = MU_single, alpha_single\n",
    "nest_public = MU_intermodal, alpha_intermodal\n",
    "nests = nest_single, nest_public\n",
    "\n",
    "\n",
    "\n",
    "logprob = models.logcnl_avail (V, None , nests , choice )# 用log likelihood 来标定模型\n",
    "\n",
    "biogeme  = bio.BIOGEME(database, logprob)\n",
    "biogeme.modelName = \"cross_nested_logit_single_inter_distance_based\"\n",
    "\n",
    "biogeme.generateHtml = True\n",
    "biogeme.generatePickle = True\n",
    "\n",
    "results = biogeme.estimate()\n",
    "\n",
    "print(f\"HTML file:    {results.data.htmlFileName}\")\n",
    "print(f\"Pickle file:  {results.data.pickleFileName }\")"
   ],
   "metadata": {
    "collapsed": false,
    "ExecuteTime": {
     "end_time": "2023-11-02T06:20:31.210931Z",
     "start_time": "2023-11-02T06:14:38.332431Z"
    }
   },
   "id": "135834d3e036ea1f"
  },
  {
   "cell_type": "code",
   "execution_count": null,
   "outputs": [],
   "source": [],
   "metadata": {
    "collapsed": false
   },
   "id": "b6a8109e6162d38e"
  }
 ],
 "metadata": {
  "kernelspec": {
   "display_name": "Python 3",
   "language": "python",
   "name": "python3"
  },
  "language_info": {
   "codemirror_mode": {
    "name": "ipython",
    "version": 2
   },
   "file_extension": ".py",
   "mimetype": "text/x-python",
   "name": "python",
   "nbconvert_exporter": "python",
   "pygments_lexer": "ipython2",
   "version": "2.7.6"
  }
 },
 "nbformat": 4,
 "nbformat_minor": 5
}
